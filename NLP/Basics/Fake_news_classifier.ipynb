{
  "cells": [
    {
      "cell_type": "markdown",
      "source": [
        "# **Fake news Classification**"
      ],
      "metadata": {
        "id": "2iadypW6A-W4"
      }
    },
    {
      "cell_type": "markdown",
      "metadata": {
        "id": "XFT4zbqFwRmr"
      },
      "source": [
        "\n",
        "\n",
        "- Fake news refers to misinformation or disinformation in the country which is spread through word of mouth and more recently through digital communication such as What's app messages, social media posts, etc.\n",
        "\n",
        "- Fake news spreads faster than Real news and creates problems and fear among groups and in society.\n",
        "\n",
        "- We are going to address these problems using classical NLP techniques and going to classify whether a given message/ text is **Real or Fake Message**.\n",
        "\n",
        "- You will use a Bag of n-grams to pre-process the text and apply different classification algorithms.\n",
        "\n",
        "- Sklearn CountVectorizer has the inbuilt implementations for Bag of Words.\n"
      ]
    },
    {
      "cell_type": "markdown",
      "metadata": {
        "id": "GBcs8GQb0C9_"
      },
      "source": [
        "## **About Data: Fake News Detection**\n",
        "\n",
        "Credits: https://www.kaggle.com/datasets/clmentbisaillon/fake-and-real-news-dataset\n",
        "\n",
        "\n",
        "- This data consists of two columns.\n",
        "        - Text\n",
        "        - label\n",
        "- Text is the statements or messages regarding a particular event/situation.\n",
        "\n",
        "- label feature tells whether the given Text is Fake or Real.\n",
        "\n",
        "- As there are only 2 classes, this problem comes under the **Binary Classification.**\n"
      ]
    },
    {
      "cell_type": "code",
      "source": [
        "from google.colab import drive\n",
        "drive.mount('/content/drive')"
      ],
      "metadata": {
        "colab": {
          "base_uri": "https://localhost:8080/"
        },
        "id": "gVTd2Kj7Y4A4",
        "outputId": "4293f481-e777-4ad5-fc7e-f95f6f9d98d3"
      },
      "execution_count": 1,
      "outputs": [
        {
          "output_type": "stream",
          "name": "stdout",
          "text": [
            "Mounted at /content/drive\n"
          ]
        }
      ]
    },
    {
      "cell_type": "code",
      "source": [
        "!cp -r \"/content/drive/MyDrive/NLP Journey/Data/\" \"/content/\""
      ],
      "metadata": {
        "id": "XZYtEpKCZetJ"
      },
      "execution_count": 2,
      "outputs": []
    },
    {
      "cell_type": "code",
      "source": [
        "!unzip Data/Fake.csv.zip\n",
        "!unzip Data/True.csv.zip\n"
      ],
      "metadata": {
        "colab": {
          "base_uri": "https://localhost:8080/"
        },
        "id": "eQt1G25NaBNo",
        "outputId": "c2a3f76b-20ff-45a7-a60f-c4fc9996d45c"
      },
      "execution_count": 3,
      "outputs": [
        {
          "output_type": "stream",
          "name": "stdout",
          "text": [
            "Archive:  Data/Fake.csv.zip\n",
            "  inflating: Fake.csv                \n",
            "Archive:  Data/True.csv.zip\n",
            "  inflating: True.csv                \n"
          ]
        }
      ]
    },
    {
      "cell_type": "code",
      "execution_count": 69,
      "metadata": {
        "colab": {
          "base_uri": "https://localhost:8080/"
        },
        "id": "KiYilX-lv_Vm",
        "outputId": "46780cc1-8c74-461e-cac6-c25b75b8bca7"
      },
      "outputs": [
        {
          "output_type": "execute_result",
          "data": {
            "text/plain": [
              "(23481, 5)"
            ]
          },
          "metadata": {},
          "execution_count": 69
        }
      ],
      "source": [
        "#import pandas library\n",
        "import pandas as pd\n",
        "\n",
        "#read the dataset with name \"Fake_Real_Data.csv\" and store it in a variable df\n",
        "df_1 = pd.read_csv(\"Fake.csv\")\n",
        "\n",
        "df_1['Fake']=1\n",
        "df_1.head()\n",
        "df_1.shape"
      ]
    },
    {
      "cell_type": "code",
      "source": [
        "#print the shape of dataframe\n",
        "df_2  =pd.read_csv('True.csv')\n",
        "df_2['Fake']=0\n",
        "df_2.head()\n",
        "df_2.shape"
      ],
      "metadata": {
        "colab": {
          "base_uri": "https://localhost:8080/"
        },
        "id": "RhzlsVcyC_Hz",
        "outputId": "f23a38c1-7995-4512-c09e-4a5f0da080c4"
      },
      "execution_count": 70,
      "outputs": [
        {
          "output_type": "execute_result",
          "data": {
            "text/plain": [
              "(21417, 5)"
            ]
          },
          "metadata": {},
          "execution_count": 70
        }
      ]
    },
    {
      "cell_type": "code",
      "source": [
        "# Considering only 5k data from both due to computing power needs\n",
        "df_1 = df_1.sample(5000)\n",
        "df_2 = df_2.sample(5000)"
      ],
      "metadata": {
        "id": "1fQjUrme5w_N"
      },
      "execution_count": 71,
      "outputs": []
    },
    {
      "cell_type": "code",
      "execution_count": 72,
      "metadata": {
        "colab": {
          "base_uri": "https://localhost:8080/",
          "height": 337
        },
        "id": "N59dp0n1v_XU",
        "outputId": "95664101-fc58-4a67-827c-8872a462fb17"
      },
      "outputs": [
        {
          "output_type": "execute_result",
          "data": {
            "text/plain": [
              "                                                   title  \\\n",
              "7812    Comedy Icon Dick Van Dyke’s First Endorsement...   \n",
              "10760  Obama digs into research on potential Supreme ...   \n",
              "5133    Even Fox News Is Slamming Trump’s ‘Dangerous’...   \n",
              "14743  Lebanon wants good ties with Saudi Arabia: for...   \n",
              "6389   Trump news conference sets worldwide social me...   \n",
              "\n",
              "                                                    text       subject  \\\n",
              "7812   Dick Van Dyke is 90 years old. The man was bor...          News   \n",
              "10760  WASHINGTON (Reuters) - President Barack Obama ...  politicsNews   \n",
              "5133   Donald Trump is so far-out and detached from r...          News   \n",
              "14743  BEIRUT (Reuters) - Lebanese Foreign Minister G...     worldnews   \n",
              "6389   NEW YORK (Reuters) - In his first news confere...  politicsNews   \n",
              "\n",
              "                     date  Fake  \n",
              "7812    February 28, 2016     1  \n",
              "10760  February 19, 2016      0  \n",
              "5133       August 8, 2016     1  \n",
              "14743  November 15, 2017      0  \n",
              "6389    January 12, 2017      0  "
            ],
            "text/html": [
              "\n",
              "  <div id=\"df-e9bf6de3-bbef-4195-862e-ea03fc386d04\">\n",
              "    <div class=\"colab-df-container\">\n",
              "      <div>\n",
              "<style scoped>\n",
              "    .dataframe tbody tr th:only-of-type {\n",
              "        vertical-align: middle;\n",
              "    }\n",
              "\n",
              "    .dataframe tbody tr th {\n",
              "        vertical-align: top;\n",
              "    }\n",
              "\n",
              "    .dataframe thead th {\n",
              "        text-align: right;\n",
              "    }\n",
              "</style>\n",
              "<table border=\"1\" class=\"dataframe\">\n",
              "  <thead>\n",
              "    <tr style=\"text-align: right;\">\n",
              "      <th></th>\n",
              "      <th>title</th>\n",
              "      <th>text</th>\n",
              "      <th>subject</th>\n",
              "      <th>date</th>\n",
              "      <th>Fake</th>\n",
              "    </tr>\n",
              "  </thead>\n",
              "  <tbody>\n",
              "    <tr>\n",
              "      <th>7812</th>\n",
              "      <td>Comedy Icon Dick Van Dyke’s First Endorsement...</td>\n",
              "      <td>Dick Van Dyke is 90 years old. The man was bor...</td>\n",
              "      <td>News</td>\n",
              "      <td>February 28, 2016</td>\n",
              "      <td>1</td>\n",
              "    </tr>\n",
              "    <tr>\n",
              "      <th>10760</th>\n",
              "      <td>Obama digs into research on potential Supreme ...</td>\n",
              "      <td>WASHINGTON (Reuters) - President Barack Obama ...</td>\n",
              "      <td>politicsNews</td>\n",
              "      <td>February 19, 2016</td>\n",
              "      <td>0</td>\n",
              "    </tr>\n",
              "    <tr>\n",
              "      <th>5133</th>\n",
              "      <td>Even Fox News Is Slamming Trump’s ‘Dangerous’...</td>\n",
              "      <td>Donald Trump is so far-out and detached from r...</td>\n",
              "      <td>News</td>\n",
              "      <td>August 8, 2016</td>\n",
              "      <td>1</td>\n",
              "    </tr>\n",
              "    <tr>\n",
              "      <th>14743</th>\n",
              "      <td>Lebanon wants good ties with Saudi Arabia: for...</td>\n",
              "      <td>BEIRUT (Reuters) - Lebanese Foreign Minister G...</td>\n",
              "      <td>worldnews</td>\n",
              "      <td>November 15, 2017</td>\n",
              "      <td>0</td>\n",
              "    </tr>\n",
              "    <tr>\n",
              "      <th>6389</th>\n",
              "      <td>Trump news conference sets worldwide social me...</td>\n",
              "      <td>NEW YORK (Reuters) - In his first news confere...</td>\n",
              "      <td>politicsNews</td>\n",
              "      <td>January 12, 2017</td>\n",
              "      <td>0</td>\n",
              "    </tr>\n",
              "  </tbody>\n",
              "</table>\n",
              "</div>\n",
              "      <button class=\"colab-df-convert\" onclick=\"convertToInteractive('df-e9bf6de3-bbef-4195-862e-ea03fc386d04')\"\n",
              "              title=\"Convert this dataframe to an interactive table.\"\n",
              "              style=\"display:none;\">\n",
              "        \n",
              "  <svg xmlns=\"http://www.w3.org/2000/svg\" height=\"24px\"viewBox=\"0 0 24 24\"\n",
              "       width=\"24px\">\n",
              "    <path d=\"M0 0h24v24H0V0z\" fill=\"none\"/>\n",
              "    <path d=\"M18.56 5.44l.94 2.06.94-2.06 2.06-.94-2.06-.94-.94-2.06-.94 2.06-2.06.94zm-11 1L8.5 8.5l.94-2.06 2.06-.94-2.06-.94L8.5 2.5l-.94 2.06-2.06.94zm10 10l.94 2.06.94-2.06 2.06-.94-2.06-.94-.94-2.06-.94 2.06-2.06.94z\"/><path d=\"M17.41 7.96l-1.37-1.37c-.4-.4-.92-.59-1.43-.59-.52 0-1.04.2-1.43.59L10.3 9.45l-7.72 7.72c-.78.78-.78 2.05 0 2.83L4 21.41c.39.39.9.59 1.41.59.51 0 1.02-.2 1.41-.59l7.78-7.78 2.81-2.81c.8-.78.8-2.07 0-2.86zM5.41 20L4 18.59l7.72-7.72 1.47 1.35L5.41 20z\"/>\n",
              "  </svg>\n",
              "      </button>\n",
              "      \n",
              "  <style>\n",
              "    .colab-df-container {\n",
              "      display:flex;\n",
              "      flex-wrap:wrap;\n",
              "      gap: 12px;\n",
              "    }\n",
              "\n",
              "    .colab-df-convert {\n",
              "      background-color: #E8F0FE;\n",
              "      border: none;\n",
              "      border-radius: 50%;\n",
              "      cursor: pointer;\n",
              "      display: none;\n",
              "      fill: #1967D2;\n",
              "      height: 32px;\n",
              "      padding: 0 0 0 0;\n",
              "      width: 32px;\n",
              "    }\n",
              "\n",
              "    .colab-df-convert:hover {\n",
              "      background-color: #E2EBFA;\n",
              "      box-shadow: 0px 1px 2px rgba(60, 64, 67, 0.3), 0px 1px 3px 1px rgba(60, 64, 67, 0.15);\n",
              "      fill: #174EA6;\n",
              "    }\n",
              "\n",
              "    [theme=dark] .colab-df-convert {\n",
              "      background-color: #3B4455;\n",
              "      fill: #D2E3FC;\n",
              "    }\n",
              "\n",
              "    [theme=dark] .colab-df-convert:hover {\n",
              "      background-color: #434B5C;\n",
              "      box-shadow: 0px 1px 3px 1px rgba(0, 0, 0, 0.15);\n",
              "      filter: drop-shadow(0px 1px 2px rgba(0, 0, 0, 0.3));\n",
              "      fill: #FFFFFF;\n",
              "    }\n",
              "  </style>\n",
              "\n",
              "      <script>\n",
              "        const buttonEl =\n",
              "          document.querySelector('#df-e9bf6de3-bbef-4195-862e-ea03fc386d04 button.colab-df-convert');\n",
              "        buttonEl.style.display =\n",
              "          google.colab.kernel.accessAllowed ? 'block' : 'none';\n",
              "\n",
              "        async function convertToInteractive(key) {\n",
              "          const element = document.querySelector('#df-e9bf6de3-bbef-4195-862e-ea03fc386d04');\n",
              "          const dataTable =\n",
              "            await google.colab.kernel.invokeFunction('convertToInteractive',\n",
              "                                                     [key], {});\n",
              "          if (!dataTable) return;\n",
              "\n",
              "          const docLinkHtml = 'Like what you see? Visit the ' +\n",
              "            '<a target=\"_blank\" href=https://colab.research.google.com/notebooks/data_table.ipynb>data table notebook</a>'\n",
              "            + ' to learn more about interactive tables.';\n",
              "          element.innerHTML = '';\n",
              "          dataTable['output_type'] = 'display_data';\n",
              "          await google.colab.output.renderOutput(dataTable, element);\n",
              "          const docLink = document.createElement('div');\n",
              "          docLink.innerHTML = docLinkHtml;\n",
              "          element.appendChild(docLink);\n",
              "        }\n",
              "      </script>\n",
              "    </div>\n",
              "  </div>\n",
              "  "
            ]
          },
          "metadata": {},
          "execution_count": 72
        }
      ],
      "source": [
        "#check the distribution of labels \n",
        "res = pd.concat([df_1, df_2],axis=0)\n",
        "res.sample(5)"
      ]
    },
    {
      "cell_type": "code",
      "source": [
        "res.shape"
      ],
      "metadata": {
        "id": "wT3FHzNH6IEi",
        "outputId": "15dd7a97-4cc9-4a11-9477-d06702cab4a4",
        "colab": {
          "base_uri": "https://localhost:8080/"
        }
      },
      "execution_count": 73,
      "outputs": [
        {
          "output_type": "execute_result",
          "data": {
            "text/plain": [
              "(10000, 5)"
            ]
          },
          "metadata": {},
          "execution_count": 73
        }
      ]
    },
    {
      "cell_type": "code",
      "source": [
        "simplified_df = res.drop(['title','subject','date'],axis=1)"
      ],
      "metadata": {
        "id": "YAfEjhhgbObV"
      },
      "execution_count": 74,
      "outputs": []
    },
    {
      "cell_type": "code",
      "source": [
        "simplified_df"
      ],
      "metadata": {
        "colab": {
          "base_uri": "https://localhost:8080/",
          "height": 424
        },
        "id": "7JrZGYOtbitT",
        "outputId": "c2473f51-8064-45ce-8344-e42ccafc9149"
      },
      "execution_count": 75,
      "outputs": [
        {
          "output_type": "execute_result",
          "data": {
            "text/plain": [
              "                                                    text  Fake\n",
              "17587  Former  Baywatch  star Pamela Anderson tried t...     1\n",
              "4905   Donald Trump is taking a lot of fire over the ...     1\n",
              "9225   Sarah Huckabee Sanders was hot today when she ...     1\n",
              "8105   There s crazy and then there s nonsensical, co...     1\n",
              "21556  What would a speech from a modern Democrat be ...     1\n",
              "...                                                  ...   ...\n",
              "3579   LONDON (Reuters) - The most senior U.S. diplom...     0\n",
              "14428  WARSAW (Reuters) - European Council President ...     0\n",
              "18197  LONDON (Reuters) - Britain s environment minis...     0\n",
              "9004   (Reuters) - A blackout of television cameras i...     0\n",
              "11182  WASHINGTON (Reuters) - For a Republican Party ...     0\n",
              "\n",
              "[10000 rows x 2 columns]"
            ],
            "text/html": [
              "\n",
              "  <div id=\"df-b1027d0e-fa55-4781-ba37-9ac46e52e248\">\n",
              "    <div class=\"colab-df-container\">\n",
              "      <div>\n",
              "<style scoped>\n",
              "    .dataframe tbody tr th:only-of-type {\n",
              "        vertical-align: middle;\n",
              "    }\n",
              "\n",
              "    .dataframe tbody tr th {\n",
              "        vertical-align: top;\n",
              "    }\n",
              "\n",
              "    .dataframe thead th {\n",
              "        text-align: right;\n",
              "    }\n",
              "</style>\n",
              "<table border=\"1\" class=\"dataframe\">\n",
              "  <thead>\n",
              "    <tr style=\"text-align: right;\">\n",
              "      <th></th>\n",
              "      <th>text</th>\n",
              "      <th>Fake</th>\n",
              "    </tr>\n",
              "  </thead>\n",
              "  <tbody>\n",
              "    <tr>\n",
              "      <th>17587</th>\n",
              "      <td>Former  Baywatch  star Pamela Anderson tried t...</td>\n",
              "      <td>1</td>\n",
              "    </tr>\n",
              "    <tr>\n",
              "      <th>4905</th>\n",
              "      <td>Donald Trump is taking a lot of fire over the ...</td>\n",
              "      <td>1</td>\n",
              "    </tr>\n",
              "    <tr>\n",
              "      <th>9225</th>\n",
              "      <td>Sarah Huckabee Sanders was hot today when she ...</td>\n",
              "      <td>1</td>\n",
              "    </tr>\n",
              "    <tr>\n",
              "      <th>8105</th>\n",
              "      <td>There s crazy and then there s nonsensical, co...</td>\n",
              "      <td>1</td>\n",
              "    </tr>\n",
              "    <tr>\n",
              "      <th>21556</th>\n",
              "      <td>What would a speech from a modern Democrat be ...</td>\n",
              "      <td>1</td>\n",
              "    </tr>\n",
              "    <tr>\n",
              "      <th>...</th>\n",
              "      <td>...</td>\n",
              "      <td>...</td>\n",
              "    </tr>\n",
              "    <tr>\n",
              "      <th>3579</th>\n",
              "      <td>LONDON (Reuters) - The most senior U.S. diplom...</td>\n",
              "      <td>0</td>\n",
              "    </tr>\n",
              "    <tr>\n",
              "      <th>14428</th>\n",
              "      <td>WARSAW (Reuters) - European Council President ...</td>\n",
              "      <td>0</td>\n",
              "    </tr>\n",
              "    <tr>\n",
              "      <th>18197</th>\n",
              "      <td>LONDON (Reuters) - Britain s environment minis...</td>\n",
              "      <td>0</td>\n",
              "    </tr>\n",
              "    <tr>\n",
              "      <th>9004</th>\n",
              "      <td>(Reuters) - A blackout of television cameras i...</td>\n",
              "      <td>0</td>\n",
              "    </tr>\n",
              "    <tr>\n",
              "      <th>11182</th>\n",
              "      <td>WASHINGTON (Reuters) - For a Republican Party ...</td>\n",
              "      <td>0</td>\n",
              "    </tr>\n",
              "  </tbody>\n",
              "</table>\n",
              "<p>10000 rows × 2 columns</p>\n",
              "</div>\n",
              "      <button class=\"colab-df-convert\" onclick=\"convertToInteractive('df-b1027d0e-fa55-4781-ba37-9ac46e52e248')\"\n",
              "              title=\"Convert this dataframe to an interactive table.\"\n",
              "              style=\"display:none;\">\n",
              "        \n",
              "  <svg xmlns=\"http://www.w3.org/2000/svg\" height=\"24px\"viewBox=\"0 0 24 24\"\n",
              "       width=\"24px\">\n",
              "    <path d=\"M0 0h24v24H0V0z\" fill=\"none\"/>\n",
              "    <path d=\"M18.56 5.44l.94 2.06.94-2.06 2.06-.94-2.06-.94-.94-2.06-.94 2.06-2.06.94zm-11 1L8.5 8.5l.94-2.06 2.06-.94-2.06-.94L8.5 2.5l-.94 2.06-2.06.94zm10 10l.94 2.06.94-2.06 2.06-.94-2.06-.94-.94-2.06-.94 2.06-2.06.94z\"/><path d=\"M17.41 7.96l-1.37-1.37c-.4-.4-.92-.59-1.43-.59-.52 0-1.04.2-1.43.59L10.3 9.45l-7.72 7.72c-.78.78-.78 2.05 0 2.83L4 21.41c.39.39.9.59 1.41.59.51 0 1.02-.2 1.41-.59l7.78-7.78 2.81-2.81c.8-.78.8-2.07 0-2.86zM5.41 20L4 18.59l7.72-7.72 1.47 1.35L5.41 20z\"/>\n",
              "  </svg>\n",
              "      </button>\n",
              "      \n",
              "  <style>\n",
              "    .colab-df-container {\n",
              "      display:flex;\n",
              "      flex-wrap:wrap;\n",
              "      gap: 12px;\n",
              "    }\n",
              "\n",
              "    .colab-df-convert {\n",
              "      background-color: #E8F0FE;\n",
              "      border: none;\n",
              "      border-radius: 50%;\n",
              "      cursor: pointer;\n",
              "      display: none;\n",
              "      fill: #1967D2;\n",
              "      height: 32px;\n",
              "      padding: 0 0 0 0;\n",
              "      width: 32px;\n",
              "    }\n",
              "\n",
              "    .colab-df-convert:hover {\n",
              "      background-color: #E2EBFA;\n",
              "      box-shadow: 0px 1px 2px rgba(60, 64, 67, 0.3), 0px 1px 3px 1px rgba(60, 64, 67, 0.15);\n",
              "      fill: #174EA6;\n",
              "    }\n",
              "\n",
              "    [theme=dark] .colab-df-convert {\n",
              "      background-color: #3B4455;\n",
              "      fill: #D2E3FC;\n",
              "    }\n",
              "\n",
              "    [theme=dark] .colab-df-convert:hover {\n",
              "      background-color: #434B5C;\n",
              "      box-shadow: 0px 1px 3px 1px rgba(0, 0, 0, 0.15);\n",
              "      filter: drop-shadow(0px 1px 2px rgba(0, 0, 0, 0.3));\n",
              "      fill: #FFFFFF;\n",
              "    }\n",
              "  </style>\n",
              "\n",
              "      <script>\n",
              "        const buttonEl =\n",
              "          document.querySelector('#df-b1027d0e-fa55-4781-ba37-9ac46e52e248 button.colab-df-convert');\n",
              "        buttonEl.style.display =\n",
              "          google.colab.kernel.accessAllowed ? 'block' : 'none';\n",
              "\n",
              "        async function convertToInteractive(key) {\n",
              "          const element = document.querySelector('#df-b1027d0e-fa55-4781-ba37-9ac46e52e248');\n",
              "          const dataTable =\n",
              "            await google.colab.kernel.invokeFunction('convertToInteractive',\n",
              "                                                     [key], {});\n",
              "          if (!dataTable) return;\n",
              "\n",
              "          const docLinkHtml = 'Like what you see? Visit the ' +\n",
              "            '<a target=\"_blank\" href=https://colab.research.google.com/notebooks/data_table.ipynb>data table notebook</a>'\n",
              "            + ' to learn more about interactive tables.';\n",
              "          element.innerHTML = '';\n",
              "          dataTable['output_type'] = 'display_data';\n",
              "          await google.colab.output.renderOutput(dataTable, element);\n",
              "          const docLink = document.createElement('div');\n",
              "          docLink.innerHTML = docLinkHtml;\n",
              "          element.appendChild(docLink);\n",
              "        }\n",
              "      </script>\n",
              "    </div>\n",
              "  </div>\n",
              "  "
            ]
          },
          "metadata": {},
          "execution_count": 75
        }
      ]
    },
    {
      "cell_type": "code",
      "source": [
        "simplified_df.Fake.value_counts()"
      ],
      "metadata": {
        "colab": {
          "base_uri": "https://localhost:8080/"
        },
        "id": "mmxnMmi7boOQ",
        "outputId": "cc6d294e-5a62-44c4-e85d-cf6e0301aa69"
      },
      "execution_count": 76,
      "outputs": [
        {
          "output_type": "execute_result",
          "data": {
            "text/plain": [
              "1    5000\n",
              "0    5000\n",
              "Name: Fake, dtype: int64"
            ]
          },
          "metadata": {},
          "execution_count": 76
        }
      ]
    },
    {
      "cell_type": "code",
      "execution_count": 78,
      "metadata": {
        "id": "Zr-vBY7xv_a3"
      },
      "outputs": [],
      "source": [
        "#Add the new column \"label_num\" which gives a unique number to each of these labels \n",
        "features = simplified_df['text']\n",
        "labels = simplified_df['Fake']\n",
        "\n",
        "#check the results with top 5 rows\n"
      ]
    },
    {
      "cell_type": "markdown",
      "metadata": {
        "id": "ev3bWDnA3tM-"
      },
      "source": [
        "# **Modelling without Pre-processing Text data**"
      ]
    },
    {
      "cell_type": "code",
      "execution_count": 79,
      "metadata": {
        "id": "hs94POE23Zjd"
      },
      "outputs": [],
      "source": [
        "#import train-test-split from sklearn \n",
        "from sklearn.model_selection import train_test_split as tts\n",
        "\n",
        "X_train, X_test, y_train, y_test = tts(features, labels, test_size =0.2, random_state=42,stratify= labels)\n",
        "\n",
        "#Do the 'train-test' splitting with test size of 20% with random state of 2022 and stratify sampling too\n",
        "\n"
      ]
    },
    {
      "cell_type": "code",
      "execution_count": 80,
      "metadata": {
        "colab": {
          "base_uri": "https://localhost:8080/"
        },
        "id": "4I4S1PJG3ZlO",
        "outputId": "c4ee65c1-ad4e-4b13-dce1-6c7a1fae50ff"
      },
      "outputs": [
        {
          "output_type": "stream",
          "name": "stdout",
          "text": [
            "(8000,) (2000,)\n"
          ]
        }
      ],
      "source": [
        "#print the shapes of X_train and X_test\n",
        "\n",
        "print(X_train.shape  , X_test.shape)\n"
      ]
    },
    {
      "cell_type": "code",
      "source": [
        "y_train.value_counts()"
      ],
      "metadata": {
        "colab": {
          "base_uri": "https://localhost:8080/"
        },
        "id": "Gq8cZVu6dCQ8",
        "outputId": "cd546cf4-a56c-4d2d-aabc-6bb88560be85"
      },
      "execution_count": 81,
      "outputs": [
        {
          "output_type": "execute_result",
          "data": {
            "text/plain": [
              "0    4000\n",
              "1    4000\n",
              "Name: Fake, dtype: int64"
            ]
          },
          "metadata": {},
          "execution_count": 81
        }
      ]
    },
    {
      "cell_type": "markdown",
      "source": [
        "## Usefule function for all models"
      ],
      "metadata": {
        "id": "x-qKxrQRg-TB"
      }
    },
    {
      "cell_type": "code",
      "source": [
        "from sklearn.metrics import confusion_matrix\n",
        "from sklearn.metrics import precision_recall_fscore_support\n",
        "from sklearn.metrics import accuracy_score\n",
        "\n",
        "def get_confusion_values(y_true, y_pred):\n",
        "  tn,fp,fn,tp = confusion_matrix(y_test, y_pred).ravel()\n",
        "  return (tn,fp,fn,tp)\n",
        "\n",
        "\n",
        "def calculate_results(y_true, y_pred):\n",
        "  \"\"\"\n",
        "  Calculates model accuracy, precision, recall and f1 score of a binary classification model.\n",
        "  Args:\n",
        "      y_true: true labels in the form of a 1D array\n",
        "      y_pred: predicted labels in the form of a 1D array\n",
        "  Returns a dictionary of accuracy, precision, recall, f1-score.\n",
        "  \"\"\"\n",
        "  # Calculate model accuracy\n",
        "  model_accuracy = accuracy_score(y_true, y_pred) * 100\n",
        "  # Calculate model precision, recall and f1 score using \"weighted average\n",
        "  model_precision, model_recall, model_f1, _ = precision_recall_fscore_support(y_true, y_pred, average=\"weighted\")\n",
        "  model_results = {\"accuracy\": model_accuracy,\n",
        "                  \"precision\": model_precision,\n",
        "                  \"recall\": model_recall,\n",
        "                  \"f1\": model_f1}\n",
        "  return model_results\n"
      ],
      "metadata": {
        "id": "oWD3ZQokhB5z"
      },
      "execution_count": 82,
      "outputs": []
    },
    {
      "cell_type": "markdown",
      "source": [
        "## Model 1 : KNN EUCLIDEAN"
      ],
      "metadata": {
        "id": "t9PW1hHhgNj3"
      }
    },
    {
      "cell_type": "markdown",
      "metadata": {
        "id": "x2sO9uck4ILs"
      },
      "source": [
        "**Attempt 1** :\n",
        "\n",
        "1. using sklearn pipeline module create a classification pipeline to classify the Data.\n",
        "\n",
        "**Note:**\n",
        "- using CountVectorizer with unigram, bigram, and trigrams.\n",
        "- use KNN as the classifier with n_neighbors of 10 and metric as 'euclidean' distance.\n",
        "- print the classification report.\n"
      ]
    },
    {
      "cell_type": "code",
      "execution_count": 83,
      "metadata": {
        "id": "LLs6pmXE3Zou"
      },
      "outputs": [],
      "source": [
        "#1. create a pipeline object\n",
        "\n",
        "from sklearn.pipeline import Pipeline\n",
        "from sklearn.feature_extraction.text import CountVectorizer\n",
        "from sklearn.neighbors import KNeighborsClassifier\n",
        "from sklearn.metrics import classification_report\n",
        "\n",
        "model_1 = Pipeline([\n",
        "    ('Praba_Vec', CountVectorizer(ngram_range=(1,3))),\n",
        "    ('Praba_clf', KNeighborsClassifier(n_neighbors=10, metric ='euclidean'))\n",
        "])\n",
        "#2. fit with X_train and y_train\n",
        "\n",
        "model_1.fit(X_train,y_train)\n",
        "\n",
        "#3. get the predictions for X_test and store it in y_pred\n",
        "\n",
        "y_pred = model_1.predict(X_test)\n",
        "\n",
        "#4. print the classfication report\n",
        "\n",
        "report_1 = classification_report(y_test, y_pred)"
      ]
    },
    {
      "cell_type": "code",
      "source": [
        "print('KNN Classifier :  No preprocess on Input data : Count Vectoriser ngram (1,3) \\n \\n ')\n",
        "print(report_1)\n"
      ],
      "metadata": {
        "colab": {
          "base_uri": "https://localhost:8080/"
        },
        "id": "AjtWt2SmfvDk",
        "outputId": "64f5cd37-8047-4f3d-a4c7-f2dd4b70ce5c"
      },
      "execution_count": 84,
      "outputs": [
        {
          "output_type": "stream",
          "name": "stdout",
          "text": [
            "KNN Classifier :  No preprocess on Input data : Count Vectoriser ngram (1,3) \n",
            " \n",
            " \n",
            "              precision    recall  f1-score   support\n",
            "\n",
            "           0       0.66      0.72      0.69      1000\n",
            "           1       0.69      0.64      0.66      1000\n",
            "\n",
            "    accuracy                           0.68      2000\n",
            "   macro avg       0.68      0.68      0.68      2000\n",
            "weighted avg       0.68      0.68      0.68      2000\n",
            "\n"
          ]
        }
      ]
    },
    {
      "cell_type": "code",
      "source": [
        "model_1_conf_values = get_confusion_values(y_test, y_pred)\n",
        "model_1_conf_values"
      ],
      "metadata": {
        "colab": {
          "base_uri": "https://localhost:8080/"
        },
        "id": "7zBMeDpVgS6z",
        "outputId": "956c953a-2f90-444a-88ea-f32713dba3a6"
      },
      "execution_count": 85,
      "outputs": [
        {
          "output_type": "execute_result",
          "data": {
            "text/plain": [
              "(716, 284, 361, 639)"
            ]
          },
          "metadata": {},
          "execution_count": 85
        }
      ]
    },
    {
      "cell_type": "code",
      "source": [
        "model_1_results = calculate_results(y_test, y_pred)\n",
        "model_1_results"
      ],
      "metadata": {
        "colab": {
          "base_uri": "https://localhost:8080/"
        },
        "id": "K7gRACejnplz",
        "outputId": "07754d96-ef29-4cd5-aa07-874ebe85089b"
      },
      "execution_count": 86,
      "outputs": [
        {
          "output_type": "execute_result",
          "data": {
            "text/plain": [
              "{'accuracy': 67.75,\n",
              " 'precision': 0.6785586743804014,\n",
              " 'recall': 0.6775,\n",
              " 'f1': 0.6770212647697049}"
            ]
          },
          "metadata": {},
          "execution_count": 86
        }
      ]
    },
    {
      "cell_type": "markdown",
      "source": [
        "## Model 2 : KNN COSINE"
      ],
      "metadata": {
        "id": "trY4VlxGgZPS"
      }
    },
    {
      "cell_type": "markdown",
      "metadata": {
        "id": "OU0g90Ra7BTW"
      },
      "source": [
        "**Attempt 2** :\n",
        "\n",
        "1. using the sklearn pipeline module create a classification pipeline to classify the Data.\n",
        "\n",
        "**Note:**\n",
        "- using CountVectorizer with unigram, bigram, and trigrams.\n",
        "- use **KNN** as the classifier with n_neighbors of 10 and metric as 'cosine' distance.\n",
        "- print the classification report.\n"
      ]
    },
    {
      "cell_type": "code",
      "execution_count": 87,
      "metadata": {
        "id": "eEsLSrIC3Zqf"
      },
      "outputs": [],
      "source": [
        "\n",
        "\n",
        "#1. create a pipeline object\n",
        "\n",
        "from sklearn.pipeline import Pipeline\n",
        "from sklearn.feature_extraction.text import CountVectorizer\n",
        "from sklearn.neighbors import KNeighborsClassifier\n",
        "from sklearn.metrics import classification_report\n",
        "\n",
        "model_2 = Pipeline([\n",
        "    ('Praba_Vec', CountVectorizer(ngram_range=(1,3))),\n",
        "    ('Praba_clf', KNeighborsClassifier(n_neighbors=10, metric ='cosine'))\n",
        "])\n",
        "#2. fit with X_train and y_train\n",
        "\n",
        "model_2.fit(X_train,y_train)\n",
        "\n",
        "#3. get the predictions for X_test and store it in y_pred\n",
        "\n",
        "y_preds_2 = model_2.predict(X_test)\n",
        "\n",
        "#4. print the classfication report\n",
        "report_2 = classification_report(y_test, y_preds_2)\n"
      ]
    },
    {
      "cell_type": "code",
      "source": [
        "print('KNN Classifier :  No preprocess on Input data : Count Vectoriser ngram (1,3) : COSINE distance for cluster \\n \\n ')\n",
        "print(report_2)"
      ],
      "metadata": {
        "colab": {
          "base_uri": "https://localhost:8080/"
        },
        "id": "T6OjKFmwl8mF",
        "outputId": "b8534858-642a-4994-fa48-a15404c00cd2"
      },
      "execution_count": 88,
      "outputs": [
        {
          "output_type": "stream",
          "name": "stdout",
          "text": [
            "KNN Classifier :  No preprocess on Input data : Count Vectoriser ngram (1,3) : COSINE distance for cluster \n",
            " \n",
            " \n",
            "              precision    recall  f1-score   support\n",
            "\n",
            "           0       0.88      0.34      0.49      1000\n",
            "           1       0.59      0.95      0.73      1000\n",
            "\n",
            "    accuracy                           0.64      2000\n",
            "   macro avg       0.73      0.64      0.61      2000\n",
            "weighted avg       0.73      0.64      0.61      2000\n",
            "\n"
          ]
        }
      ]
    },
    {
      "cell_type": "code",
      "source": [
        "model_2_conf_values = get_confusion_values(y_test, y_preds_2)\n",
        "model_2_conf_values"
      ],
      "metadata": {
        "colab": {
          "base_uri": "https://localhost:8080/"
        },
        "outputId": "a43d8be4-1db3-4adc-ba6f-2c865c80fa67",
        "id": "zgc3q8Vwn8sV"
      },
      "execution_count": 89,
      "outputs": [
        {
          "output_type": "execute_result",
          "data": {
            "text/plain": [
              "(336, 664, 47, 953)"
            ]
          },
          "metadata": {},
          "execution_count": 89
        }
      ]
    },
    {
      "cell_type": "code",
      "source": [
        "model_2_results = calculate_results(y_test, y_preds_2)\n",
        "model_2_results"
      ],
      "metadata": {
        "outputId": "770719c6-8352-4be9-e618-e5c81bede3c9",
        "colab": {
          "base_uri": "https://localhost:8080/"
        },
        "id": "aO5coUpQn8sW"
      },
      "execution_count": 90,
      "outputs": [
        {
          "output_type": "execute_result",
          "data": {
            "text/plain": [
              "{'accuracy': 64.45,\n",
              " 'precision': 0.7333238066173537,\n",
              " 'recall': 0.6445,\n",
              " 'f1': 0.6071075406341151}"
            ]
          },
          "metadata": {},
          "execution_count": 90
        }
      ]
    },
    {
      "cell_type": "markdown",
      "source": [
        "## Model 3 : RANDOM FOREST - Depth 70"
      ],
      "metadata": {
        "id": "QDlLT8HxgWpp"
      }
    },
    {
      "cell_type": "markdown",
      "metadata": {
        "id": "Kl5zoCbE8jds"
      },
      "source": [
        "\n",
        "**Attempt 3** :\n",
        "\n",
        "1. using the sklearn pipeline module create a classification pipeline to classify the Data.\n",
        "\n",
        "**Note:**\n",
        "- using CountVectorizer with only trigrams.\n",
        "- use **RandomForest** as the classifier.\n",
        "- print the classification report.\n"
      ]
    },
    {
      "cell_type": "code",
      "execution_count": 91,
      "metadata": {
        "id": "4bywjvZyv_ga"
      },
      "outputs": [],
      "source": [
        "#1. create a pipeline object\n",
        "\n",
        "from sklearn.pipeline import Pipeline\n",
        "from sklearn.feature_extraction.text import CountVectorizer\n",
        "from sklearn.ensemble import RandomForestClassifier\n",
        "from sklearn.metrics import classification_report\n",
        "\n",
        "model_3 = Pipeline([\n",
        "    ('Praba_Vec', CountVectorizer(ngram_range=(3,3))),\n",
        "    ('Praba_clf', RandomForestClassifier(max_depth=70)) # If max depth is not defined it will take more time \n",
        "])\n",
        "#2. fit with X_train and y_train\n",
        "\n",
        "model_3.fit(X_train,y_train)\n",
        "\n",
        "#3. get the predictions for X_test and store it in y_pred\n",
        "\n",
        "y_preds_3 = model_2.predict(X_test)\n",
        "\n",
        "#4. print the classfication report\n",
        "report_3 = classification_report(y_test, y_preds_3)\n"
      ]
    },
    {
      "cell_type": "code",
      "source": [
        "print('Random Forest Classifier -depth 70 :  No preprocess on Input data : \\n \\n ')\n",
        "print(report_3)"
      ],
      "metadata": {
        "colab": {
          "base_uri": "https://localhost:8080/"
        },
        "id": "oivzlNG0v2jT",
        "outputId": "2d376a67-4177-4d16-f975-e8ad3625ce17"
      },
      "execution_count": 92,
      "outputs": [
        {
          "output_type": "stream",
          "name": "stdout",
          "text": [
            "Random Forest Classifier -depth 70 :  No preprocess on Input data : \n",
            " \n",
            " \n",
            "              precision    recall  f1-score   support\n",
            "\n",
            "           0       0.88      0.34      0.49      1000\n",
            "           1       0.59      0.95      0.73      1000\n",
            "\n",
            "    accuracy                           0.64      2000\n",
            "   macro avg       0.73      0.64      0.61      2000\n",
            "weighted avg       0.73      0.64      0.61      2000\n",
            "\n"
          ]
        }
      ]
    },
    {
      "cell_type": "code",
      "source": [
        "model_3_conf_values = get_confusion_values(y_test, y_preds_3)\n",
        "model_3_conf_values"
      ],
      "metadata": {
        "colab": {
          "base_uri": "https://localhost:8080/"
        },
        "outputId": "bd1dca2a-c903-4c11-f360-136f329a90ca",
        "id": "IAieuyL8om-T"
      },
      "execution_count": 93,
      "outputs": [
        {
          "output_type": "execute_result",
          "data": {
            "text/plain": [
              "(336, 664, 47, 953)"
            ]
          },
          "metadata": {},
          "execution_count": 93
        }
      ]
    },
    {
      "cell_type": "code",
      "source": [
        "model_3_results = calculate_results(y_test, y_preds_3)\n",
        "model_3_results"
      ],
      "metadata": {
        "outputId": "79201e78-dd35-4b0e-b267-0f6b11bcf442",
        "colab": {
          "base_uri": "https://localhost:8080/"
        },
        "id": "K0GwXLx2om-X"
      },
      "execution_count": 94,
      "outputs": [
        {
          "output_type": "execute_result",
          "data": {
            "text/plain": [
              "{'accuracy': 64.45,\n",
              " 'precision': 0.7333238066173537,\n",
              " 'recall': 0.6445,\n",
              " 'f1': 0.6071075406341151}"
            ]
          },
          "metadata": {},
          "execution_count": 94
        }
      ]
    },
    {
      "cell_type": "markdown",
      "source": [
        "## Model 4 : Muti Naive Bayes : Alpha 0.75"
      ],
      "metadata": {
        "id": "NX3XvWXsgg5Z"
      }
    },
    {
      "cell_type": "markdown",
      "metadata": {
        "id": "RMeeE5zB8tZz"
      },
      "source": [
        "\n",
        "**Attempt 4** :\n",
        "\n",
        "1. using the sklearn pipeline module create a classification pipeline to classify the Data.\n",
        "\n",
        "**Note:**\n",
        "- using CountVectorizer with both unigram and bigrams.\n",
        "- use **Multinomial Naive Bayes** as the classifier with an alpha value of 0.75.\n",
        "- print the classification report.\n"
      ]
    },
    {
      "cell_type": "code",
      "execution_count": 95,
      "metadata": {
        "id": "9cP_zluNwBjS"
      },
      "outputs": [],
      "source": [
        "from sklearn.pipeline import Pipeline\n",
        "from sklearn.feature_extraction.text import CountVectorizer\n",
        "from sklearn.naive_bayes import MultinomialNB\n",
        "from sklearn.metrics import classification_report\n",
        "#1. create a pipeline object\n",
        "\n",
        "model_4 = Pipeline([\n",
        "    ('Praba_vect',CountVectorizer(ngram_range=(2,3))),\n",
        "    ('Praba_clf', MultinomialNB(alpha=0.75))\n",
        "])\n",
        "\n",
        "\n",
        "\n",
        "#2. fit with X_train and y_train\n",
        "\n",
        "model_4.fit(X_train,y_train)\n",
        "\n",
        "#3. get the predictions for X_test and store it in y_pred\n",
        "\n",
        "y_preds_4 = model_4.predict(X_test)\n",
        "\n",
        "#4. print the classfication report\n",
        "\n",
        "report_4 = classification_report(y_test, y_preds_4)"
      ]
    },
    {
      "cell_type": "code",
      "source": [
        "print('MultiNomial Naive Bayes  - Alpha 0.75:  No preprocess on Input data : \\n \\n ')\n",
        "print(report_4)"
      ],
      "metadata": {
        "colab": {
          "base_uri": "https://localhost:8080/"
        },
        "id": "H4vcgDtidFEf",
        "outputId": "1df2cede-2647-42cb-9eea-608be6ab82d8"
      },
      "execution_count": 96,
      "outputs": [
        {
          "output_type": "stream",
          "name": "stdout",
          "text": [
            "MultiNomial Naive Bayes  - Alpha 0.75:  No preprocess on Input data : \n",
            " \n",
            " \n",
            "              precision    recall  f1-score   support\n",
            "\n",
            "           0       0.94      0.98      0.96      1000\n",
            "           1       0.98      0.94      0.96      1000\n",
            "\n",
            "    accuracy                           0.96      2000\n",
            "   macro avg       0.96      0.96      0.96      2000\n",
            "weighted avg       0.96      0.96      0.96      2000\n",
            "\n"
          ]
        }
      ]
    },
    {
      "cell_type": "code",
      "source": [
        "model_4_conf_values = get_confusion_values(y_test, y_preds_4)\n",
        "model_4_conf_values"
      ],
      "metadata": {
        "colab": {
          "base_uri": "https://localhost:8080/"
        },
        "outputId": "7f5f2c67-4340-40c5-929f-ae788a803d71",
        "id": "Kaot6BD7o3NW"
      },
      "execution_count": 97,
      "outputs": [
        {
          "output_type": "execute_result",
          "data": {
            "text/plain": [
              "(984, 16, 65, 935)"
            ]
          },
          "metadata": {},
          "execution_count": 97
        }
      ]
    },
    {
      "cell_type": "code",
      "source": [
        "model_4_results = calculate_results(y_test, y_preds_4)\n",
        "model_4_results"
      ],
      "metadata": {
        "outputId": "91cdda32-1dc8-4a16-dcb7-ca73131f87f3",
        "colab": {
          "base_uri": "https://localhost:8080/"
        },
        "id": "h8jWyYu9o3NX"
      },
      "execution_count": 98,
      "outputs": [
        {
          "output_type": "execute_result",
          "data": {
            "text/plain": [
              "{'accuracy': 95.95,\n",
              " 'precision': 0.9606059148014383,\n",
              " 'recall': 0.9595,\n",
              " 'f1': 0.9594756752740832}"
            ]
          },
          "metadata": {},
          "execution_count": 98
        }
      ]
    },
    {
      "cell_type": "markdown",
      "source": [
        "## Model result Comparision"
      ],
      "metadata": {
        "id": "1O3LWraNpqfO"
      }
    },
    {
      "cell_type": "code",
      "source": [
        "import pandas as pd \n",
        "# Combine model results into a DataFrame\n",
        "all_model_results = pd.DataFrame({\"m1 Knn Euclidean \": model_1_results,\n",
        "                                  \"m2 Knn Cosine\": model_2_results,\n",
        "                                  \"m3 Random Forest\": model_3_results,\n",
        "                                  \"m4 Naive Bayes\": model_4_results,\n",
        "                                  })\n",
        "all_model_results = all_model_results.transpose()\n",
        "all_model_results\n"
      ],
      "metadata": {
        "colab": {
          "base_uri": "https://localhost:8080/",
          "height": 175
        },
        "id": "ASkI8JsWpugm",
        "outputId": "a6cf826a-0782-42bd-d1dd-edf62fee503c"
      },
      "execution_count": 100,
      "outputs": [
        {
          "output_type": "execute_result",
          "data": {
            "text/plain": [
              "                   accuracy  precision  recall        f1\n",
              "m1 Knn Euclidean      67.75   0.678559  0.6775  0.677021\n",
              "m2 Knn Cosine         64.45   0.733324  0.6445  0.607108\n",
              "m3 Random Forest      64.45   0.733324  0.6445  0.607108\n",
              "m4 Naive Bayes        95.95   0.960606  0.9595  0.959476"
            ],
            "text/html": [
              "\n",
              "  <div id=\"df-2dc7c224-eaf3-451f-9ffe-c6dfbb7ee0b7\">\n",
              "    <div class=\"colab-df-container\">\n",
              "      <div>\n",
              "<style scoped>\n",
              "    .dataframe tbody tr th:only-of-type {\n",
              "        vertical-align: middle;\n",
              "    }\n",
              "\n",
              "    .dataframe tbody tr th {\n",
              "        vertical-align: top;\n",
              "    }\n",
              "\n",
              "    .dataframe thead th {\n",
              "        text-align: right;\n",
              "    }\n",
              "</style>\n",
              "<table border=\"1\" class=\"dataframe\">\n",
              "  <thead>\n",
              "    <tr style=\"text-align: right;\">\n",
              "      <th></th>\n",
              "      <th>accuracy</th>\n",
              "      <th>precision</th>\n",
              "      <th>recall</th>\n",
              "      <th>f1</th>\n",
              "    </tr>\n",
              "  </thead>\n",
              "  <tbody>\n",
              "    <tr>\n",
              "      <th>m1 Knn Euclidean</th>\n",
              "      <td>67.75</td>\n",
              "      <td>0.678559</td>\n",
              "      <td>0.6775</td>\n",
              "      <td>0.677021</td>\n",
              "    </tr>\n",
              "    <tr>\n",
              "      <th>m2 Knn Cosine</th>\n",
              "      <td>64.45</td>\n",
              "      <td>0.733324</td>\n",
              "      <td>0.6445</td>\n",
              "      <td>0.607108</td>\n",
              "    </tr>\n",
              "    <tr>\n",
              "      <th>m3 Random Forest</th>\n",
              "      <td>64.45</td>\n",
              "      <td>0.733324</td>\n",
              "      <td>0.6445</td>\n",
              "      <td>0.607108</td>\n",
              "    </tr>\n",
              "    <tr>\n",
              "      <th>m4 Naive Bayes</th>\n",
              "      <td>95.95</td>\n",
              "      <td>0.960606</td>\n",
              "      <td>0.9595</td>\n",
              "      <td>0.959476</td>\n",
              "    </tr>\n",
              "  </tbody>\n",
              "</table>\n",
              "</div>\n",
              "      <button class=\"colab-df-convert\" onclick=\"convertToInteractive('df-2dc7c224-eaf3-451f-9ffe-c6dfbb7ee0b7')\"\n",
              "              title=\"Convert this dataframe to an interactive table.\"\n",
              "              style=\"display:none;\">\n",
              "        \n",
              "  <svg xmlns=\"http://www.w3.org/2000/svg\" height=\"24px\"viewBox=\"0 0 24 24\"\n",
              "       width=\"24px\">\n",
              "    <path d=\"M0 0h24v24H0V0z\" fill=\"none\"/>\n",
              "    <path d=\"M18.56 5.44l.94 2.06.94-2.06 2.06-.94-2.06-.94-.94-2.06-.94 2.06-2.06.94zm-11 1L8.5 8.5l.94-2.06 2.06-.94-2.06-.94L8.5 2.5l-.94 2.06-2.06.94zm10 10l.94 2.06.94-2.06 2.06-.94-2.06-.94-.94-2.06-.94 2.06-2.06.94z\"/><path d=\"M17.41 7.96l-1.37-1.37c-.4-.4-.92-.59-1.43-.59-.52 0-1.04.2-1.43.59L10.3 9.45l-7.72 7.72c-.78.78-.78 2.05 0 2.83L4 21.41c.39.39.9.59 1.41.59.51 0 1.02-.2 1.41-.59l7.78-7.78 2.81-2.81c.8-.78.8-2.07 0-2.86zM5.41 20L4 18.59l7.72-7.72 1.47 1.35L5.41 20z\"/>\n",
              "  </svg>\n",
              "      </button>\n",
              "      \n",
              "  <style>\n",
              "    .colab-df-container {\n",
              "      display:flex;\n",
              "      flex-wrap:wrap;\n",
              "      gap: 12px;\n",
              "    }\n",
              "\n",
              "    .colab-df-convert {\n",
              "      background-color: #E8F0FE;\n",
              "      border: none;\n",
              "      border-radius: 50%;\n",
              "      cursor: pointer;\n",
              "      display: none;\n",
              "      fill: #1967D2;\n",
              "      height: 32px;\n",
              "      padding: 0 0 0 0;\n",
              "      width: 32px;\n",
              "    }\n",
              "\n",
              "    .colab-df-convert:hover {\n",
              "      background-color: #E2EBFA;\n",
              "      box-shadow: 0px 1px 2px rgba(60, 64, 67, 0.3), 0px 1px 3px 1px rgba(60, 64, 67, 0.15);\n",
              "      fill: #174EA6;\n",
              "    }\n",
              "\n",
              "    [theme=dark] .colab-df-convert {\n",
              "      background-color: #3B4455;\n",
              "      fill: #D2E3FC;\n",
              "    }\n",
              "\n",
              "    [theme=dark] .colab-df-convert:hover {\n",
              "      background-color: #434B5C;\n",
              "      box-shadow: 0px 1px 3px 1px rgba(0, 0, 0, 0.15);\n",
              "      filter: drop-shadow(0px 1px 2px rgba(0, 0, 0, 0.3));\n",
              "      fill: #FFFFFF;\n",
              "    }\n",
              "  </style>\n",
              "\n",
              "      <script>\n",
              "        const buttonEl =\n",
              "          document.querySelector('#df-2dc7c224-eaf3-451f-9ffe-c6dfbb7ee0b7 button.colab-df-convert');\n",
              "        buttonEl.style.display =\n",
              "          google.colab.kernel.accessAllowed ? 'block' : 'none';\n",
              "\n",
              "        async function convertToInteractive(key) {\n",
              "          const element = document.querySelector('#df-2dc7c224-eaf3-451f-9ffe-c6dfbb7ee0b7');\n",
              "          const dataTable =\n",
              "            await google.colab.kernel.invokeFunction('convertToInteractive',\n",
              "                                                     [key], {});\n",
              "          if (!dataTable) return;\n",
              "\n",
              "          const docLinkHtml = 'Like what you see? Visit the ' +\n",
              "            '<a target=\"_blank\" href=https://colab.research.google.com/notebooks/data_table.ipynb>data table notebook</a>'\n",
              "            + ' to learn more about interactive tables.';\n",
              "          element.innerHTML = '';\n",
              "          dataTable['output_type'] = 'display_data';\n",
              "          await google.colab.output.renderOutput(dataTable, element);\n",
              "          const docLink = document.createElement('div');\n",
              "          docLink.innerHTML = docLinkHtml;\n",
              "          element.appendChild(docLink);\n",
              "        }\n",
              "      </script>\n",
              "    </div>\n",
              "  </div>\n",
              "  "
            ]
          },
          "metadata": {},
          "execution_count": 100
        }
      ]
    },
    {
      "cell_type": "markdown",
      "source": [
        "✨✨  Naive Bayes    **ROCKS** "
      ],
      "metadata": {
        "id": "mIXFc-narLcG"
      }
    },
    {
      "cell_type": "markdown",
      "source": [
        "# Preprocessed "
      ],
      "metadata": {
        "id": "JZ-oI7VVg19E"
      }
    },
    {
      "cell_type": "markdown",
      "metadata": {
        "id": "IoFBbMga9tPB"
      },
      "source": [
        "<h3>Use text pre-processing to remove stop words, punctuations and apply lemmatization </h3>"
      ]
    },
    {
      "cell_type": "code",
      "execution_count": 101,
      "metadata": {
        "id": "R14_wUhGjqj5"
      },
      "outputs": [],
      "source": [
        "#use this utility function to get the preprocessed text data\n",
        "\n",
        "import spacy\n",
        "\n",
        "# load english language model and create nlp object from it\n",
        "nlp = spacy.load(\"en_core_web_sm\") \n",
        "\n",
        "def preprocess(text):\n",
        "    # remove stop words and lemmatize the text\n",
        "    doc = nlp(text)\n",
        "    filtered_tokens = [token.lemma_ for token in doc if not (token.is_stop or token.is_punct)]\n",
        "    return \" \".join(filtered_tokens) "
      ]
    },
    {
      "cell_type": "code",
      "execution_count": 102,
      "metadata": {
        "id": "JIKvTbl9jql0"
      },
      "outputs": [],
      "source": [
        "# create a new column \"preprocessed_txt\" and use the utility function above to get the clean data\n",
        "# this will take some time, please be patient\n",
        "\n",
        "simplified_df['preprocessed_text'] = simplified_df['text'].apply(preprocess)"
      ]
    },
    {
      "cell_type": "code",
      "execution_count": 104,
      "metadata": {
        "colab": {
          "base_uri": "https://localhost:8080/",
          "height": 206
        },
        "id": "0O-uZncOjqpG",
        "outputId": "7c138520-51f3-493e-910d-6885fc112b6f"
      },
      "outputs": [
        {
          "output_type": "execute_result",
          "data": {
            "text/plain": [
              "                                                    text  Fake  \\\n",
              "17587  Former  Baywatch  star Pamela Anderson tried t...     1   \n",
              "4905   Donald Trump is taking a lot of fire over the ...     1   \n",
              "9225   Sarah Huckabee Sanders was hot today when she ...     1   \n",
              "8105   There s crazy and then there s nonsensical, co...     1   \n",
              "21556  What would a speech from a modern Democrat be ...     1   \n",
              "\n",
              "                                       preprocessed_text  \n",
              "17587    Baywatch   star Pamela Anderson try use char...  \n",
              "4905   Donald Trump take lot fire letter allege physi...  \n",
              "9225   Sarah Huckabee Sanders hot today go CNN s Jim ...  \n",
              "8105   s crazy s nonsensical conspiratorial head para...  \n",
              "21556  speech modern Democrat didn t include LGBT cro...  "
            ],
            "text/html": [
              "\n",
              "  <div id=\"df-7daf318f-986c-413d-9b29-f9ef8b068c39\">\n",
              "    <div class=\"colab-df-container\">\n",
              "      <div>\n",
              "<style scoped>\n",
              "    .dataframe tbody tr th:only-of-type {\n",
              "        vertical-align: middle;\n",
              "    }\n",
              "\n",
              "    .dataframe tbody tr th {\n",
              "        vertical-align: top;\n",
              "    }\n",
              "\n",
              "    .dataframe thead th {\n",
              "        text-align: right;\n",
              "    }\n",
              "</style>\n",
              "<table border=\"1\" class=\"dataframe\">\n",
              "  <thead>\n",
              "    <tr style=\"text-align: right;\">\n",
              "      <th></th>\n",
              "      <th>text</th>\n",
              "      <th>Fake</th>\n",
              "      <th>preprocessed_text</th>\n",
              "    </tr>\n",
              "  </thead>\n",
              "  <tbody>\n",
              "    <tr>\n",
              "      <th>17587</th>\n",
              "      <td>Former  Baywatch  star Pamela Anderson tried t...</td>\n",
              "      <td>1</td>\n",
              "      <td>Baywatch   star Pamela Anderson try use char...</td>\n",
              "    </tr>\n",
              "    <tr>\n",
              "      <th>4905</th>\n",
              "      <td>Donald Trump is taking a lot of fire over the ...</td>\n",
              "      <td>1</td>\n",
              "      <td>Donald Trump take lot fire letter allege physi...</td>\n",
              "    </tr>\n",
              "    <tr>\n",
              "      <th>9225</th>\n",
              "      <td>Sarah Huckabee Sanders was hot today when she ...</td>\n",
              "      <td>1</td>\n",
              "      <td>Sarah Huckabee Sanders hot today go CNN s Jim ...</td>\n",
              "    </tr>\n",
              "    <tr>\n",
              "      <th>8105</th>\n",
              "      <td>There s crazy and then there s nonsensical, co...</td>\n",
              "      <td>1</td>\n",
              "      <td>s crazy s nonsensical conspiratorial head para...</td>\n",
              "    </tr>\n",
              "    <tr>\n",
              "      <th>21556</th>\n",
              "      <td>What would a speech from a modern Democrat be ...</td>\n",
              "      <td>1</td>\n",
              "      <td>speech modern Democrat didn t include LGBT cro...</td>\n",
              "    </tr>\n",
              "  </tbody>\n",
              "</table>\n",
              "</div>\n",
              "      <button class=\"colab-df-convert\" onclick=\"convertToInteractive('df-7daf318f-986c-413d-9b29-f9ef8b068c39')\"\n",
              "              title=\"Convert this dataframe to an interactive table.\"\n",
              "              style=\"display:none;\">\n",
              "        \n",
              "  <svg xmlns=\"http://www.w3.org/2000/svg\" height=\"24px\"viewBox=\"0 0 24 24\"\n",
              "       width=\"24px\">\n",
              "    <path d=\"M0 0h24v24H0V0z\" fill=\"none\"/>\n",
              "    <path d=\"M18.56 5.44l.94 2.06.94-2.06 2.06-.94-2.06-.94-.94-2.06-.94 2.06-2.06.94zm-11 1L8.5 8.5l.94-2.06 2.06-.94-2.06-.94L8.5 2.5l-.94 2.06-2.06.94zm10 10l.94 2.06.94-2.06 2.06-.94-2.06-.94-.94-2.06-.94 2.06-2.06.94z\"/><path d=\"M17.41 7.96l-1.37-1.37c-.4-.4-.92-.59-1.43-.59-.52 0-1.04.2-1.43.59L10.3 9.45l-7.72 7.72c-.78.78-.78 2.05 0 2.83L4 21.41c.39.39.9.59 1.41.59.51 0 1.02-.2 1.41-.59l7.78-7.78 2.81-2.81c.8-.78.8-2.07 0-2.86zM5.41 20L4 18.59l7.72-7.72 1.47 1.35L5.41 20z\"/>\n",
              "  </svg>\n",
              "      </button>\n",
              "      \n",
              "  <style>\n",
              "    .colab-df-container {\n",
              "      display:flex;\n",
              "      flex-wrap:wrap;\n",
              "      gap: 12px;\n",
              "    }\n",
              "\n",
              "    .colab-df-convert {\n",
              "      background-color: #E8F0FE;\n",
              "      border: none;\n",
              "      border-radius: 50%;\n",
              "      cursor: pointer;\n",
              "      display: none;\n",
              "      fill: #1967D2;\n",
              "      height: 32px;\n",
              "      padding: 0 0 0 0;\n",
              "      width: 32px;\n",
              "    }\n",
              "\n",
              "    .colab-df-convert:hover {\n",
              "      background-color: #E2EBFA;\n",
              "      box-shadow: 0px 1px 2px rgba(60, 64, 67, 0.3), 0px 1px 3px 1px rgba(60, 64, 67, 0.15);\n",
              "      fill: #174EA6;\n",
              "    }\n",
              "\n",
              "    [theme=dark] .colab-df-convert {\n",
              "      background-color: #3B4455;\n",
              "      fill: #D2E3FC;\n",
              "    }\n",
              "\n",
              "    [theme=dark] .colab-df-convert:hover {\n",
              "      background-color: #434B5C;\n",
              "      box-shadow: 0px 1px 3px 1px rgba(0, 0, 0, 0.15);\n",
              "      filter: drop-shadow(0px 1px 2px rgba(0, 0, 0, 0.3));\n",
              "      fill: #FFFFFF;\n",
              "    }\n",
              "  </style>\n",
              "\n",
              "      <script>\n",
              "        const buttonEl =\n",
              "          document.querySelector('#df-7daf318f-986c-413d-9b29-f9ef8b068c39 button.colab-df-convert');\n",
              "        buttonEl.style.display =\n",
              "          google.colab.kernel.accessAllowed ? 'block' : 'none';\n",
              "\n",
              "        async function convertToInteractive(key) {\n",
              "          const element = document.querySelector('#df-7daf318f-986c-413d-9b29-f9ef8b068c39');\n",
              "          const dataTable =\n",
              "            await google.colab.kernel.invokeFunction('convertToInteractive',\n",
              "                                                     [key], {});\n",
              "          if (!dataTable) return;\n",
              "\n",
              "          const docLinkHtml = 'Like what you see? Visit the ' +\n",
              "            '<a target=\"_blank\" href=https://colab.research.google.com/notebooks/data_table.ipynb>data table notebook</a>'\n",
              "            + ' to learn more about interactive tables.';\n",
              "          element.innerHTML = '';\n",
              "          dataTable['output_type'] = 'display_data';\n",
              "          await google.colab.output.renderOutput(dataTable, element);\n",
              "          const docLink = document.createElement('div');\n",
              "          docLink.innerHTML = docLinkHtml;\n",
              "          element.appendChild(docLink);\n",
              "        }\n",
              "      </script>\n",
              "    </div>\n",
              "  </div>\n",
              "  "
            ]
          },
          "metadata": {},
          "execution_count": 104
        }
      ],
      "source": [
        "#print the top 5 rows\n",
        "simplified_df.head()"
      ]
    },
    {
      "cell_type": "markdown",
      "metadata": {
        "id": "IMVuYaYM-giF"
      },
      "source": [
        "**Build a model with pre processed text**"
      ]
    },
    {
      "cell_type": "code",
      "execution_count": 105,
      "metadata": {
        "id": "D25BcI45jqrE"
      },
      "outputs": [],
      "source": [
        "#Do the 'train-test' splitting with test size of 20% with random state of 2022 and stratify sampling too\n",
        "#Note: Make sure to use only the \"preprocessed_txt\" column for splitting\n",
        "processed_features = simplified_df['preprocessed_text']\n",
        "labels = simplified_df['Fake']\n",
        "X_train_pr, X_test_pr , y_train, y_test = tts (processed_features,labels, test_size=0.2, random_state=42,stratify= labels )\n",
        "\n"
      ]
    },
    {
      "cell_type": "markdown",
      "metadata": {
        "id": "ZOh36PXR-nR_"
      },
      "source": [
        "**Let's check the scores with our best model till now**\n",
        "- Random Forest"
      ]
    },
    {
      "cell_type": "markdown",
      "source": [
        "## Model 5: Random forest Clean data - ngram -3"
      ],
      "metadata": {
        "id": "opvRbCR4unEr"
      }
    },
    {
      "cell_type": "markdown",
      "metadata": {
        "id": "YbfpQ5-kDgMt"
      },
      "source": [
        "**Attempt1** :\n",
        "\n",
        "1. using the sklearn pipeline module create a classification pipeline to classify the Data.\n",
        "\n",
        "**Note:**\n",
        "- using CountVectorizer with only trigrams.\n",
        "- use **RandomForest** as the classifier.\n",
        "- print the classification report.\n"
      ]
    },
    {
      "cell_type": "code",
      "execution_count": 107,
      "metadata": {
        "id": "981HgQhiujxW"
      },
      "outputs": [],
      "source": [
        "#1. create a pipeline object\n",
        "\n",
        "from sklearn.pipeline import Pipeline\n",
        "from sklearn.feature_extraction.text import CountVectorizer\n",
        "from sklearn.ensemble import RandomForestClassifier\n",
        "from sklearn.metrics import classification_report\n",
        "\n",
        "model_5 = Pipeline([\n",
        "    ('Praba_Vec', CountVectorizer(ngram_range=(3,3))),\n",
        "    ('Praba_clf', RandomForestClassifier(max_depth=70)) # If max depth is not defined it will take more time \n",
        "])\n",
        "#2. fit with X_train and y_train\n",
        "\n",
        "model_5.fit(X_train_pr,y_train)\n",
        "\n",
        "#3. get the predictions for X_test and store it in y_pred\n",
        "\n",
        "y_preds_5 = model_5.predict(X_test_pr)\n",
        "\n",
        "#4. print the classfication report\n",
        "report_5 = classification_report(y_test, y_preds_5)\n"
      ]
    },
    {
      "cell_type": "code",
      "source": [
        "print('Random Forest Classifier -depth 70 :  Preprocessed Input data : \\n \\n ')\n",
        "print(report_5)"
      ],
      "metadata": {
        "colab": {
          "base_uri": "https://localhost:8080/"
        },
        "outputId": "106d4fac-64c7-4fee-bb88-d1b457c03069",
        "id": "WYs0QRABujxf"
      },
      "execution_count": 108,
      "outputs": [
        {
          "output_type": "stream",
          "name": "stdout",
          "text": [
            "Random Forest Classifier -depth 70 :  Preprocessed Input data : \n",
            " \n",
            " \n",
            "              precision    recall  f1-score   support\n",
            "\n",
            "           0       0.96      0.73      0.83      1000\n",
            "           1       0.78      0.97      0.87      1000\n",
            "\n",
            "    accuracy                           0.85      2000\n",
            "   macro avg       0.87      0.85      0.85      2000\n",
            "weighted avg       0.87      0.85      0.85      2000\n",
            "\n"
          ]
        }
      ]
    },
    {
      "cell_type": "code",
      "source": [
        "model_5_conf_values = get_confusion_values(y_test, y_preds_5)\n",
        "model_5_conf_values"
      ],
      "metadata": {
        "colab": {
          "base_uri": "https://localhost:8080/"
        },
        "outputId": "2ba14366-57fe-4c93-be88-e838187bd97c",
        "id": "cYYUshx5ujxf"
      },
      "execution_count": 109,
      "outputs": [
        {
          "output_type": "execute_result",
          "data": {
            "text/plain": [
              "(735, 265, 34, 966)"
            ]
          },
          "metadata": {},
          "execution_count": 109
        }
      ]
    },
    {
      "cell_type": "code",
      "source": [
        "model_5_results = calculate_results(y_test, y_preds_5)\n",
        "model_5_results"
      ],
      "metadata": {
        "outputId": "ce7f9e08-5030-4fba-ba51-c5c708a06ebb",
        "colab": {
          "base_uri": "https://localhost:8080/"
        },
        "id": "6zetKJRZujxf"
      },
      "execution_count": 110,
      "outputs": [
        {
          "output_type": "execute_result",
          "data": {
            "text/plain": [
              "{'accuracy': 85.05,\n",
              " 'precision': 0.8702572997731975,\n",
              " 'recall': 0.8505,\n",
              " 'f1': 0.8484786675447132}"
            ]
          },
          "metadata": {},
          "execution_count": 110
        }
      ]
    },
    {
      "cell_type": "markdown",
      "source": [
        "## Model 6: Random Forest - Clean data ngram 1-3"
      ],
      "metadata": {
        "id": "6BLBLz5SxMn7"
      }
    },
    {
      "cell_type": "markdown",
      "metadata": {
        "id": "GB78pcAPEFQZ"
      },
      "source": [
        "**Attempt2** :\n",
        "\n",
        "1. using the sklearn pipeline module create a classification pipeline to classify the Data.\n",
        "\n",
        "**Note:**\n",
        "- using CountVectorizer with unigram, Bigram, and trigrams.\n",
        "- use **RandomForest** as the classifier.\n",
        "- print the classification report.\n"
      ]
    },
    {
      "cell_type": "code",
      "execution_count": 111,
      "metadata": {
        "id": "rpwvD1mvjqvx"
      },
      "outputs": [],
      "source": [
        "#1. create a pipeline object\n",
        "\n",
        "\n",
        "\n",
        "\n",
        "#2. fit with X_train and y_train\n",
        "\n",
        "\n",
        "\n",
        "#3. get the predictions for X_test and store it in y_pred\n",
        "\n",
        "\n",
        "\n",
        "#4. print the classfication report\n"
      ]
    },
    {
      "cell_type": "code",
      "execution_count": 112,
      "metadata": {
        "id": "mxEn39XRw-7u"
      },
      "outputs": [],
      "source": [
        "#1. create a pipeline object\n",
        "\n",
        "from sklearn.pipeline import Pipeline\n",
        "from sklearn.feature_extraction.text import CountVectorizer\n",
        "from sklearn.ensemble import RandomForestClassifier\n",
        "from sklearn.metrics import classification_report\n",
        "\n",
        "model_6 = Pipeline([\n",
        "    ('Praba_Vec', CountVectorizer(ngram_range=(1,3))),\n",
        "    ('Praba_clf', RandomForestClassifier(max_depth=70)) # If max depth is not defined it will take more time \n",
        "])\n",
        "#2. fit with X_train and y_train\n",
        "\n",
        "model_6.fit(X_train_pr,y_train)\n",
        "\n",
        "#3. get the predictions for X_test and store it in y_pred\n",
        "\n",
        "y_preds_6 = model_6.predict(X_test_pr)\n",
        "\n",
        "#4. print the classfication report\n",
        "report_6 = classification_report(y_test, y_preds_6)\n"
      ]
    },
    {
      "cell_type": "code",
      "source": [
        "print('Random Forest Classifier -depth 70 :  Preprocessed Input data : \\n \\n ')\n",
        "print(report_6)"
      ],
      "metadata": {
        "colab": {
          "base_uri": "https://localhost:8080/"
        },
        "outputId": "8f3ca6c7-ee47-4e14-b6f6-ffb6e729d7d8",
        "id": "pZkAWV1pw-7z"
      },
      "execution_count": 113,
      "outputs": [
        {
          "output_type": "stream",
          "name": "stdout",
          "text": [
            "Random Forest Classifier -depth 70 :  Preprocessed Input data : \n",
            " \n",
            " \n",
            "              precision    recall  f1-score   support\n",
            "\n",
            "           0       0.96      0.98      0.97      1000\n",
            "           1       0.98      0.96      0.97      1000\n",
            "\n",
            "    accuracy                           0.97      2000\n",
            "   macro avg       0.97      0.97      0.97      2000\n",
            "weighted avg       0.97      0.97      0.97      2000\n",
            "\n"
          ]
        }
      ]
    },
    {
      "cell_type": "code",
      "source": [
        "model_6_conf_values = get_confusion_values(y_test, y_preds_6)\n",
        "model_6_conf_values"
      ],
      "metadata": {
        "colab": {
          "base_uri": "https://localhost:8080/"
        },
        "outputId": "1678eeac-b1c9-4af6-b162-823c0801d21a",
        "id": "NMM_CPRPw-7z"
      },
      "execution_count": 118,
      "outputs": [
        {
          "output_type": "execute_result",
          "data": {
            "text/plain": [
              "(983, 17, 42, 958)"
            ]
          },
          "metadata": {},
          "execution_count": 118
        }
      ]
    },
    {
      "cell_type": "code",
      "source": [
        "model_6_results = calculate_results(y_test, y_preds_6)\n",
        "model_6_results"
      ],
      "metadata": {
        "outputId": "6505aca0-5916-4c44-9189-33ce04f5f71b",
        "colab": {
          "base_uri": "https://localhost:8080/"
        },
        "id": "yqUyCrV6w-7z"
      },
      "execution_count": 119,
      "outputs": [
        {
          "output_type": "execute_result",
          "data": {
            "text/plain": [
              "{'accuracy': 97.05,\n",
              " 'precision': 0.9707942464040025,\n",
              " 'recall': 0.9705,\n",
              " 'f1': 0.9704953899046727}"
            ]
          },
          "metadata": {},
          "execution_count": 119
        }
      ]
    },
    {
      "cell_type": "code",
      "execution_count": 116,
      "metadata": {
        "id": "SLT0vKGRHAMF"
      },
      "outputs": [],
      "source": [
        "#finally print the confusion matrix for the best model\n",
        "\n"
      ]
    },
    {
      "cell_type": "markdown",
      "source": [
        "# Final Comparision"
      ],
      "metadata": {
        "id": "hq4VhePe_HWA"
      }
    },
    {
      "cell_type": "code",
      "source": [
        "import pandas as pd \n",
        "# Combine model results into a DataFrame\n",
        "all_model_results = pd.DataFrame({\"m1 Knn Euclidean \": model_1_results,\n",
        "                                  \"m2 Knn Cosine\": model_2_results,\n",
        "                                  \"m3 Random Forest\": model_3_results,\n",
        "                                  \"m4 Naive Bayes\": model_4_results,\n",
        "                                  \"m5 Random Forest\":model_5_results,\n",
        "                                  \"m6 Random Forest\": model_6_results\n",
        "                                  })\n",
        "all_model_results = all_model_results.transpose()\n",
        "all_model_results"
      ],
      "metadata": {
        "id": "pn13KeSH9oZF",
        "outputId": "27ea99f4-8a2d-4913-b144-5093f6a16452",
        "colab": {
          "base_uri": "https://localhost:8080/",
          "height": 238
        }
      },
      "execution_count": 120,
      "outputs": [
        {
          "output_type": "execute_result",
          "data": {
            "text/plain": [
              "                   accuracy  precision  recall        f1\n",
              "m1 Knn Euclidean      67.75   0.678559  0.6775  0.677021\n",
              "m2 Knn Cosine         64.45   0.733324  0.6445  0.607108\n",
              "m3 Random Forest      64.45   0.733324  0.6445  0.607108\n",
              "m4 Naive Bayes        95.95   0.960606  0.9595  0.959476\n",
              "m5 Random Forest      85.05   0.870257  0.8505  0.848479\n",
              "m6 Random Forest      97.05   0.970794  0.9705  0.970495"
            ],
            "text/html": [
              "\n",
              "  <div id=\"df-dc8de080-9f71-43a1-895c-06be9b8af2c9\">\n",
              "    <div class=\"colab-df-container\">\n",
              "      <div>\n",
              "<style scoped>\n",
              "    .dataframe tbody tr th:only-of-type {\n",
              "        vertical-align: middle;\n",
              "    }\n",
              "\n",
              "    .dataframe tbody tr th {\n",
              "        vertical-align: top;\n",
              "    }\n",
              "\n",
              "    .dataframe thead th {\n",
              "        text-align: right;\n",
              "    }\n",
              "</style>\n",
              "<table border=\"1\" class=\"dataframe\">\n",
              "  <thead>\n",
              "    <tr style=\"text-align: right;\">\n",
              "      <th></th>\n",
              "      <th>accuracy</th>\n",
              "      <th>precision</th>\n",
              "      <th>recall</th>\n",
              "      <th>f1</th>\n",
              "    </tr>\n",
              "  </thead>\n",
              "  <tbody>\n",
              "    <tr>\n",
              "      <th>m1 Knn Euclidean</th>\n",
              "      <td>67.75</td>\n",
              "      <td>0.678559</td>\n",
              "      <td>0.6775</td>\n",
              "      <td>0.677021</td>\n",
              "    </tr>\n",
              "    <tr>\n",
              "      <th>m2 Knn Cosine</th>\n",
              "      <td>64.45</td>\n",
              "      <td>0.733324</td>\n",
              "      <td>0.6445</td>\n",
              "      <td>0.607108</td>\n",
              "    </tr>\n",
              "    <tr>\n",
              "      <th>m3 Random Forest</th>\n",
              "      <td>64.45</td>\n",
              "      <td>0.733324</td>\n",
              "      <td>0.6445</td>\n",
              "      <td>0.607108</td>\n",
              "    </tr>\n",
              "    <tr>\n",
              "      <th>m4 Naive Bayes</th>\n",
              "      <td>95.95</td>\n",
              "      <td>0.960606</td>\n",
              "      <td>0.9595</td>\n",
              "      <td>0.959476</td>\n",
              "    </tr>\n",
              "    <tr>\n",
              "      <th>m5 Random Forest</th>\n",
              "      <td>85.05</td>\n",
              "      <td>0.870257</td>\n",
              "      <td>0.8505</td>\n",
              "      <td>0.848479</td>\n",
              "    </tr>\n",
              "    <tr>\n",
              "      <th>m6 Random Forest</th>\n",
              "      <td>97.05</td>\n",
              "      <td>0.970794</td>\n",
              "      <td>0.9705</td>\n",
              "      <td>0.970495</td>\n",
              "    </tr>\n",
              "  </tbody>\n",
              "</table>\n",
              "</div>\n",
              "      <button class=\"colab-df-convert\" onclick=\"convertToInteractive('df-dc8de080-9f71-43a1-895c-06be9b8af2c9')\"\n",
              "              title=\"Convert this dataframe to an interactive table.\"\n",
              "              style=\"display:none;\">\n",
              "        \n",
              "  <svg xmlns=\"http://www.w3.org/2000/svg\" height=\"24px\"viewBox=\"0 0 24 24\"\n",
              "       width=\"24px\">\n",
              "    <path d=\"M0 0h24v24H0V0z\" fill=\"none\"/>\n",
              "    <path d=\"M18.56 5.44l.94 2.06.94-2.06 2.06-.94-2.06-.94-.94-2.06-.94 2.06-2.06.94zm-11 1L8.5 8.5l.94-2.06 2.06-.94-2.06-.94L8.5 2.5l-.94 2.06-2.06.94zm10 10l.94 2.06.94-2.06 2.06-.94-2.06-.94-.94-2.06-.94 2.06-2.06.94z\"/><path d=\"M17.41 7.96l-1.37-1.37c-.4-.4-.92-.59-1.43-.59-.52 0-1.04.2-1.43.59L10.3 9.45l-7.72 7.72c-.78.78-.78 2.05 0 2.83L4 21.41c.39.39.9.59 1.41.59.51 0 1.02-.2 1.41-.59l7.78-7.78 2.81-2.81c.8-.78.8-2.07 0-2.86zM5.41 20L4 18.59l7.72-7.72 1.47 1.35L5.41 20z\"/>\n",
              "  </svg>\n",
              "      </button>\n",
              "      \n",
              "  <style>\n",
              "    .colab-df-container {\n",
              "      display:flex;\n",
              "      flex-wrap:wrap;\n",
              "      gap: 12px;\n",
              "    }\n",
              "\n",
              "    .colab-df-convert {\n",
              "      background-color: #E8F0FE;\n",
              "      border: none;\n",
              "      border-radius: 50%;\n",
              "      cursor: pointer;\n",
              "      display: none;\n",
              "      fill: #1967D2;\n",
              "      height: 32px;\n",
              "      padding: 0 0 0 0;\n",
              "      width: 32px;\n",
              "    }\n",
              "\n",
              "    .colab-df-convert:hover {\n",
              "      background-color: #E2EBFA;\n",
              "      box-shadow: 0px 1px 2px rgba(60, 64, 67, 0.3), 0px 1px 3px 1px rgba(60, 64, 67, 0.15);\n",
              "      fill: #174EA6;\n",
              "    }\n",
              "\n",
              "    [theme=dark] .colab-df-convert {\n",
              "      background-color: #3B4455;\n",
              "      fill: #D2E3FC;\n",
              "    }\n",
              "\n",
              "    [theme=dark] .colab-df-convert:hover {\n",
              "      background-color: #434B5C;\n",
              "      box-shadow: 0px 1px 3px 1px rgba(0, 0, 0, 0.15);\n",
              "      filter: drop-shadow(0px 1px 2px rgba(0, 0, 0, 0.3));\n",
              "      fill: #FFFFFF;\n",
              "    }\n",
              "  </style>\n",
              "\n",
              "      <script>\n",
              "        const buttonEl =\n",
              "          document.querySelector('#df-dc8de080-9f71-43a1-895c-06be9b8af2c9 button.colab-df-convert');\n",
              "        buttonEl.style.display =\n",
              "          google.colab.kernel.accessAllowed ? 'block' : 'none';\n",
              "\n",
              "        async function convertToInteractive(key) {\n",
              "          const element = document.querySelector('#df-dc8de080-9f71-43a1-895c-06be9b8af2c9');\n",
              "          const dataTable =\n",
              "            await google.colab.kernel.invokeFunction('convertToInteractive',\n",
              "                                                     [key], {});\n",
              "          if (!dataTable) return;\n",
              "\n",
              "          const docLinkHtml = 'Like what you see? Visit the ' +\n",
              "            '<a target=\"_blank\" href=https://colab.research.google.com/notebooks/data_table.ipynb>data table notebook</a>'\n",
              "            + ' to learn more about interactive tables.';\n",
              "          element.innerHTML = '';\n",
              "          dataTable['output_type'] = 'display_data';\n",
              "          await google.colab.output.renderOutput(dataTable, element);\n",
              "          const docLink = document.createElement('div');\n",
              "          docLink.innerHTML = docLinkHtml;\n",
              "          element.appendChild(docLink);\n",
              "        }\n",
              "      </script>\n",
              "    </div>\n",
              "  </div>\n",
              "  "
            ]
          },
          "metadata": {},
          "execution_count": 120
        }
      ]
    },
    {
      "cell_type": "markdown",
      "metadata": {
        "id": "pSfKnzG4EYSn"
      },
      "source": [
        "## **Observations**\n"
      ]
    },
    {
      "cell_type": "markdown",
      "source": [
        "Model 1:\n",
        " 1. It looks to be overfitted \n",
        " 2. Higher dimensions of feature - Took time to calculate euclidean distance\n",
        "\n",
        "Model 2:\n",
        "  1. This is also overfitted\n",
        "\n",
        "Model 3 & 4:\n",
        "  1. Ngram :3 only trigram\n",
        "  2. Recall and F1 improved\n",
        "  3. As Random Forest uses Bootstrapping(row and column Sampling) with many decision trees and overcomes the high variance and overfitting of high dimensional data and also uses feature importance of words for better classifying the categories.\n",
        "\n",
        "  4. The easy calculation of probabilities for the words in the corpus(Bag of words) and storing them in a contingency table is the major reason for the Multinomial NaiveBayes to be a text classification friendly algorithm.\n",
        "\n",
        "\n",
        "Model 5 & 6:\n",
        "  1. Have trained the best model RandomForest on the pre-processed data, but RandomForest with trigrams fails to produce the same results here.\n",
        "\n",
        "  2. But the same randomForest with Unigram to Trigram features helps to produce very amazing results and is tops in the entire list with very good F1 scores and Recall scores.\n",
        "\n",
        ">  😎 Machine Learning is like a trial and error scientific method, where we keep trying all the possible algorithms we have and select the one which gives good results and satisfies the requirements like latency, interpretability, etc. ⛳"
      ],
      "metadata": {
        "id": "aWiTI5k9-Na4"
      }
    },
    {
      "cell_type": "code",
      "source": [],
      "metadata": {
        "id": "8_ZTHwRkAfUA"
      },
      "execution_count": null,
      "outputs": []
    },
    {
      "cell_type": "code",
      "source": [],
      "metadata": {
        "id": "1g0Rn3RTArmZ"
      },
      "execution_count": null,
      "outputs": []
    }
  ],
  "metadata": {
    "colab": {
      "collapsed_sections": [],
      "name": "bag_of_n_grams_exercise.ipynb",
      "provenance": [],
      "toc_visible": true
    },
    "kernelspec": {
      "display_name": "Python 3 (ipykernel)",
      "language": "python",
      "name": "python3"
    },
    "language_info": {
      "codemirror_mode": {
        "name": "ipython",
        "version": 3
      },
      "file_extension": ".py",
      "mimetype": "text/x-python",
      "name": "python",
      "nbconvert_exporter": "python",
      "pygments_lexer": "ipython3",
      "version": "3.8.10"
    },
    "gpuClass": "standard"
  },
  "nbformat": 4,
  "nbformat_minor": 0
}