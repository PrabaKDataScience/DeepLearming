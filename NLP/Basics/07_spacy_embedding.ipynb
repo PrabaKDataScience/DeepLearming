{
  "nbformat": 4,
  "nbformat_minor": 0,
  "metadata": {
    "colab": {
      "provenance": [],
      "authorship_tag": "ABX9TyOMrYvSWp8hcn7vyjAGZTMY",
      "include_colab_link": true
    },
    "kernelspec": {
      "name": "python3",
      "display_name": "Python 3"
    },
    "language_info": {
      "name": "python"
    }
  },
  "cells": [
    {
      "cell_type": "markdown",
      "metadata": {
        "id": "view-in-github",
        "colab_type": "text"
      },
      "source": [
        "<a href=\"https://colab.research.google.com/github/PrabaKDataScience/DeepLearning/blob/main/NLP/Basics/07_spacy_embedding.ipynb\" target=\"_parent\"><img src=\"https://colab.research.google.com/assets/colab-badge.svg\" alt=\"Open In Colab\"/></a>"
      ]
    },
    {
      "cell_type": "code",
      "execution_count": 20,
      "metadata": {
        "id": "KPd2P_1Qnp4p"
      },
      "outputs": [],
      "source": [
        "import spacy \n",
        "\n",
        "# Download either the medium english model / large english model - because it has the pipeline tok2vec\n",
        "\n",
        "#!python -m spacy download en_core_web_lg\n",
        "\n",
        "nlp = spacy.load('en_core_web_lg')"
      ]
    },
    {
      "cell_type": "code",
      "source": [
        "doc = nlp(\"I want soem oranges\")\n",
        "\n",
        "for token in doc:\n",
        "  print(token.text , token.has_vector ,token.is_oov)"
      ],
      "metadata": {
        "colab": {
          "base_uri": "https://localhost:8080/"
        },
        "id": "AOArqYOkof_H",
        "outputId": "3350b1bf-5854-4934-97d0-5b025aebb1b5"
      },
      "execution_count": 21,
      "outputs": [
        {
          "output_type": "stream",
          "name": "stdout",
          "text": [
            "I True False\n",
            "want True False\n",
            "soem False True\n",
            "oranges True False\n"
          ]
        }
      ]
    },
    {
      "cell_type": "code",
      "source": [
        "doc[0].vector.shape\n",
        "\n",
        "# Because the en_core_web_lg model output each token as 300 dimensioned feature vector"
      ],
      "metadata": {
        "colab": {
          "base_uri": "https://localhost:8080/"
        },
        "id": "VkIh69Iwo-WR",
        "outputId": "10eb9aa8-f28e-4901-9a3c-ba366ead0364"
      },
      "execution_count": 22,
      "outputs": [
        {
          "output_type": "execute_result",
          "data": {
            "text/plain": [
              "(300,)"
            ]
          },
          "metadata": {},
          "execution_count": 22
        }
      ]
    },
    {
      "cell_type": "code",
      "source": [
        "base_token = nlp(\"bread\")\n",
        "base_token.vector.shape  # If you have only one word -- no need to index"
      ],
      "metadata": {
        "colab": {
          "base_uri": "https://localhost:8080/"
        },
        "id": "pvDt0qBXpVs5",
        "outputId": "e16bdd11-a214-4abf-ec5b-57408cc01b5f"
      },
      "execution_count": 23,
      "outputs": [
        {
          "output_type": "execute_result",
          "data": {
            "text/plain": [
              "(300,)"
            ]
          },
          "metadata": {},
          "execution_count": 23
        }
      ]
    },
    {
      "cell_type": "code",
      "source": [
        "# Finding the cosine similarity after converting each word as a feature vector\n",
        "\n",
        "doc = nlp(\"bread sandwich burger car tiger human wheat\")\n",
        "for token in doc:\n",
        "    # print(type(token))\n",
        "    print(f\"{token.text} <-> {base_token.text}:\", token.similarity(base_token))"
      ],
      "metadata": {
        "colab": {
          "base_uri": "https://localhost:8080/"
        },
        "id": "1TsKnz3Tpf91",
        "outputId": "82f3b05e-a238-4825-89fe-5a2cf7af16c2"
      },
      "execution_count": 24,
      "outputs": [
        {
          "output_type": "stream",
          "name": "stdout",
          "text": [
            "bread <-> bread: 1.0\n",
            "sandwich <-> bread: 0.6341067010130894\n",
            "burger <-> bread: 0.47520687769584247\n",
            "car <-> bread: 0.06451533308853552\n",
            "tiger <-> bread: 0.04764611675903374\n",
            "human <-> bread: 0.2151154210812192\n",
            "wheat <-> bread: 0.6150360888607199\n"
          ]
        }
      ]
    },
    {
      "cell_type": "code",
      "source": [
        "# We can get a vector corresponding to any word (beware that model knows only trained words)\n",
        "\n",
        "king = nlp.vocab[\"king\"].vector\n",
        "man = nlp.vocab[\"man\"].vector\n",
        "woman = nlp.vocab[\"woman\"].vector\n",
        "queen = nlp.vocab[\"queen\"].vector\n",
        "\n",
        "result = king - man + woman"
      ],
      "metadata": {
        "id": "HytIqGefqEMY"
      },
      "execution_count": 19,
      "outputs": []
    },
    {
      "cell_type": "code",
      "source": [
        "# We have to verify whether the result vector is similar to queen \n",
        "\n",
        "from sklearn.metrics.pairwise import cosine_similarity\n",
        "\n",
        "cosine_similarity([result], [queen])"
      ],
      "metadata": {
        "colab": {
          "base_uri": "https://localhost:8080/"
        },
        "id": "ZmnRub-YqfAt",
        "outputId": "efa4d618-7128-4d3d-8b1a-8bd0d47d0edf"
      },
      "execution_count": 25,
      "outputs": [
        {
          "output_type": "execute_result",
          "data": {
            "text/plain": [
              "array([[0.61780137]], dtype=float32)"
            ]
          },
          "metadata": {},
          "execution_count": 25
        }
      ]
    },
    {
      "cell_type": "markdown",
      "source": [
        "✨ The result is above 0.5 , By convention if the similarity is above 0.5 it is considered to be semantic matching ✨"
      ],
      "metadata": {
        "id": "k1w6XKI-reVq"
      }
    }
  ]
}