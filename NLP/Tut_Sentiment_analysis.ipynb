{
  "nbformat": 4,
  "nbformat_minor": 0,
  "metadata": {
    "colab": {
      "provenance": []
    },
    "kernelspec": {
      "name": "python3",
      "display_name": "Python 3"
    },
    "language_info": {
      "name": "python"
    },
    "accelerator": "GPU"
  },
  "cells": [
    {
      "cell_type": "markdown",
      "source": [
        "# Data Input"
      ],
      "metadata": {
        "id": "ij2dJ2FUK-Eu"
      }
    },
    {
      "cell_type": "markdown",
      "source": [
        "connect to imdb datbase in keras"
      ],
      "metadata": {
        "id": "89aTQGXvQt08"
      }
    },
    {
      "cell_type": "code",
      "execution_count": null,
      "metadata": {
        "id": "Rg8alsqxK5U3"
      },
      "outputs": [],
      "source": [
        "from keras.datasets import imdb"
      ]
    },
    {
      "cell_type": "markdown",
      "source": [
        "Load the data by specifying the max vocabulary limit, unique words to be changed from text to numbers"
      ],
      "metadata": {
        "id": "yHgl3JBcQ0XF"
      }
    },
    {
      "cell_type": "code",
      "source": [
        "imdb.load_data"
      ],
      "metadata": {
        "colab": {
          "base_uri": "https://localhost:8080/"
        },
        "id": "h5gQ1TFULG5q",
        "outputId": "d3bf516b-f23b-4fff-ef67-519852e8a80c"
      },
      "execution_count": null,
      "outputs": [
        {
          "output_type": "execute_result",
          "data": {
            "text/plain": [
              "<function keras.datasets.imdb.load_data(path='imdb.npz', num_words=None, skip_top=0, maxlen=None, seed=113, start_char=1, oov_char=2, index_from=3, **kwargs)>"
            ]
          },
          "metadata": {},
          "execution_count": 2
        }
      ]
    },
    {
      "cell_type": "code",
      "source": [
        "vocabulary_size = 5000\n",
        "(X_train, y_train), (X_test, y_test) = imdb.load_data(num_words = vocabulary_size)\n",
        "print('Loaded dataset with {} training samples, {} test samples'.format(len(X_train), len(X_test)))"
      ],
      "metadata": {
        "colab": {
          "base_uri": "https://localhost:8080/"
        },
        "id": "mjT5lbElLpuJ",
        "outputId": "5a209dbc-e39a-4857-d855-72c271b21ad7"
      },
      "execution_count": null,
      "outputs": [
        {
          "output_type": "stream",
          "name": "stdout",
          "text": [
            "Downloading data from https://storage.googleapis.com/tensorflow/tf-keras-datasets/imdb.npz\n",
            "17465344/17464789 [==============================] - 0s 0us/step\n",
            "17473536/17464789 [==============================] - 0s 0us/step\n",
            "Loaded dataset with 25000 training samples, 25000 test samples\n"
          ]
        }
      ]
    },
    {
      "cell_type": "markdown",
      "source": [
        "If you note the sequences are already tokenised "
      ],
      "metadata": {
        "id": "JeDJOvbbREgD"
      }
    },
    {
      "cell_type": "code",
      "source": [
        "print('---review---')\n",
        "print(X_train[6])\n",
        "print('---label---')\n",
        "print(y_train[6])"
      ],
      "metadata": {
        "colab": {
          "base_uri": "https://localhost:8080/"
        },
        "id": "Ak_6SFSULvf5",
        "outputId": "d37899bd-ebab-481d-a193-28062ac53a47"
      },
      "execution_count": null,
      "outputs": [
        {
          "output_type": "stream",
          "name": "stdout",
          "text": [
            "---review---\n",
            "[1, 2, 365, 1234, 5, 1156, 354, 11, 14, 2, 2, 7, 1016, 2, 2, 356, 44, 4, 1349, 500, 746, 5, 200, 4, 4132, 11, 2, 2, 1117, 1831, 2, 5, 4831, 26, 6, 2, 4183, 17, 369, 37, 215, 1345, 143, 2, 5, 1838, 8, 1974, 15, 36, 119, 257, 85, 52, 486, 9, 6, 2, 2, 63, 271, 6, 196, 96, 949, 4121, 4, 2, 7, 4, 2212, 2436, 819, 63, 47, 77, 2, 180, 6, 227, 11, 94, 2494, 2, 13, 423, 4, 168, 7, 4, 22, 5, 89, 665, 71, 270, 56, 5, 13, 197, 12, 161, 2, 99, 76, 23, 2, 7, 419, 665, 40, 91, 85, 108, 7, 4, 2084, 5, 4773, 81, 55, 52, 1901]\n",
            "---label---\n",
            "1\n"
          ]
        }
      ]
    },
    {
      "cell_type": "markdown",
      "source": [
        "We are trying to get back the original form of sequence"
      ],
      "metadata": {
        "id": "tGnng4-YRLtz"
      }
    },
    {
      "cell_type": "code",
      "source": [
        "\n",
        "word2id = imdb.get_word_index()\n",
        "id2word = {i: word for word, i in word2id.items()}\n",
        "print('---review with words---')\n",
        "print([id2word.get(i, ' ') for i in X_train[6]])\n",
        "print('---label---')\n",
        "print(y_train[6])"
      ],
      "metadata": {
        "colab": {
          "base_uri": "https://localhost:8080/"
        },
        "id": "T_ASqJWnMeE6",
        "outputId": "b1f9356b-3b71-4bee-f291-5f1c2fe5ae31"
      },
      "execution_count": null,
      "outputs": [
        {
          "output_type": "stream",
          "name": "stdout",
          "text": [
            "Downloading data from https://storage.googleapis.com/tensorflow/tf-keras-datasets/imdb_word_index.json\n",
            "1646592/1641221 [==============================] - 0s 0us/step\n",
            "1654784/1641221 [==============================] - 0s 0us/step\n",
            "---review with words---\n",
            "['the', 'and', 'full', 'involving', 'to', 'impressive', 'boring', 'this', 'as', 'and', 'and', 'br', 'villain', 'and', 'and', 'need', 'has', 'of', 'costumes', 'b', 'message', 'to', 'may', 'of', 'props', 'this', 'and', 'and', 'concept', 'issue', 'and', 'to', \"god's\", 'he', 'is', 'and', 'unfolds', 'movie', 'women', 'like', \"isn't\", 'surely', \"i'm\", 'and', 'to', 'toward', 'in', \"here's\", 'for', 'from', 'did', 'having', 'because', 'very', 'quality', 'it', 'is', 'and', 'and', 'really', 'book', 'is', 'both', 'too', 'worked', 'carl', 'of', 'and', 'br', 'of', 'reviewer', 'closer', 'figure', 'really', 'there', 'will', 'and', 'things', 'is', 'far', 'this', 'make', 'mistakes', 'and', 'was', \"couldn't\", 'of', 'few', 'br', 'of', 'you', 'to', \"don't\", 'female', 'than', 'place', 'she', 'to', 'was', 'between', 'that', 'nothing', 'and', 'movies', 'get', 'are', 'and', 'br', 'yes', 'female', 'just', 'its', 'because', 'many', 'br', 'of', 'overly', 'to', 'descent', 'people', 'time', 'very', 'bland']\n",
            "---label---\n",
            "1\n"
          ]
        }
      ]
    },
    {
      "cell_type": "markdown",
      "source": [
        "Get the max tokens and min token in the whole sequence list "
      ],
      "metadata": {
        "id": "8PK4Hz3gRTiT"
      }
    },
    {
      "cell_type": "code",
      "source": [
        "len_list=[]\n",
        "for each in X_train:\n",
        "  len_list.append(len(each))\n",
        "\n",
        "for each in X_test:\n",
        "  len_list.append(len(each))\n",
        "  \n",
        "max(len_list),min(len_list)"
      ],
      "metadata": {
        "colab": {
          "base_uri": "https://localhost:8080/"
        },
        "id": "sJHcWd5SNfCN",
        "outputId": "812a9b4b-bd24-4e32-f158-cc3de147e8f0"
      },
      "execution_count": null,
      "outputs": [
        {
          "output_type": "execute_result",
          "data": {
            "text/plain": [
              "(2494, 7)"
            ]
          },
          "metadata": {},
          "execution_count": 6
        }
      ]
    },
    {
      "cell_type": "markdown",
      "source": [
        "Limiting the length of each sequence & Expanding if it less (Padding)"
      ],
      "metadata": {
        "id": "IiP3z_J8Rb75"
      }
    },
    {
      "cell_type": "code",
      "source": [
        "from keras.preprocessing import sequence\n",
        "max_words = 500\n",
        "X_train = sequence.pad_sequences(X_train, maxlen=max_words)\n",
        "X_test = sequence.pad_sequences(X_test, maxlen=max_words)"
      ],
      "metadata": {
        "id": "pF8rHxUHNZK9"
      },
      "execution_count": null,
      "outputs": []
    },
    {
      "cell_type": "markdown",
      "source": [
        "For verifying the padding"
      ],
      "metadata": {
        "id": "s5N9w_P9QqKD"
      }
    },
    {
      "cell_type": "code",
      "source": [
        "len_list=[]\n",
        "for each in X_train:\n",
        "  len_list.append(len(each))\n",
        "\n",
        "for each in X_test:\n",
        "  len_list.append(len(each))\n",
        "  \n",
        "max(len_list),min(len_list)"
      ],
      "metadata": {
        "colab": {
          "base_uri": "https://localhost:8080/"
        },
        "id": "kPtKuTgaQiPJ",
        "outputId": "4045e820-5bb6-4418-9c68-63b85a6051a0"
      },
      "execution_count": null,
      "outputs": [
        {
          "output_type": "execute_result",
          "data": {
            "text/plain": [
              "(500, 500)"
            ]
          },
          "metadata": {},
          "execution_count": 8
        }
      ]
    },
    {
      "cell_type": "markdown",
      "source": [
        "# Model"
      ],
      "metadata": {
        "id": "Fva-uPe3Rlh0"
      }
    },
    {
      "cell_type": "code",
      "source": [
        "len(X_train)"
      ],
      "metadata": {
        "colab": {
          "base_uri": "https://localhost:8080/"
        },
        "id": "Aq3t7u8ub8Zi",
        "outputId": "af9d831c-8516-44b1-d5dd-2c8115a63b26"
      },
      "execution_count": null,
      "outputs": [
        {
          "output_type": "execute_result",
          "data": {
            "text/plain": [
              "25000"
            ]
          },
          "metadata": {},
          "execution_count": 9
        }
      ]
    },
    {
      "cell_type": "code",
      "source": [
        "\n",
        "# Splitting the train sequences into traion and valiadation\n",
        "from sklearn.model_selection import train_test_split as tts\n",
        "\n",
        "X_tr, X_val, y_tr, y_val = tts(X_train, y_train,test_size=0.33, random_state=42)"
      ],
      "metadata": {
        "id": "pE-VLMg-Xwa0"
      },
      "execution_count": null,
      "outputs": []
    },
    {
      "cell_type": "code",
      "source": [
        "len(X_train),len(y_train)"
      ],
      "metadata": {
        "colab": {
          "base_uri": "https://localhost:8080/"
        },
        "id": "r2Z_s3gccGFi",
        "outputId": "0f2aec36-0234-4d61-fdb9-61285be36559"
      },
      "execution_count": null,
      "outputs": [
        {
          "output_type": "execute_result",
          "data": {
            "text/plain": [
              "(25000, 25000)"
            ]
          },
          "metadata": {},
          "execution_count": 11
        }
      ]
    },
    {
      "cell_type": "code",
      "source": [
        "from keras import Sequential\n",
        "from keras.layers import Embedding, LSTM, Dense, Dropout\n",
        "\n",
        "embedding_size=32   # Each token or word is going to represented as a feature vector of size 32 \n",
        "model_1=Sequential()\n",
        "model_1.add(Embedding(vocabulary_size, embedding_size, input_length=max_words))\n",
        "model_1.add(LSTM(100))\n",
        "model_1.add(Dense(1, activation='sigmoid'))\n",
        "\n",
        "print(model_1.summary())"
      ],
      "metadata": {
        "colab": {
          "base_uri": "https://localhost:8080/"
        },
        "id": "Ky02khqORrpm",
        "outputId": "eda5f5b1-58ba-4f77-ff2d-bb8e83f04287"
      },
      "execution_count": null,
      "outputs": [
        {
          "output_type": "stream",
          "name": "stdout",
          "text": [
            "Model: \"sequential\"\n",
            "_________________________________________________________________\n",
            " Layer (type)                Output Shape              Param #   \n",
            "=================================================================\n",
            " embedding (Embedding)       (None, 500, 32)           160000    \n",
            "                                                                 \n",
            " lstm (LSTM)                 (None, 100)               53200     \n",
            "                                                                 \n",
            " dense (Dense)               (None, 1)                 101       \n",
            "                                                                 \n",
            "=================================================================\n",
            "Total params: 213,301\n",
            "Trainable params: 213,301\n",
            "Non-trainable params: 0\n",
            "_________________________________________________________________\n",
            "None\n"
          ]
        }
      ]
    },
    {
      "cell_type": "code",
      "source": [
        "model_1.compile(loss='binary_crossentropy',\n",
        "                optimizer='adam',\n",
        "                metrics=['accuracy'])"
      ],
      "metadata": {
        "id": "g67CUKUnSphW"
      },
      "execution_count": null,
      "outputs": []
    },
    {
      "cell_type": "code",
      "source": [
        "model_1_history = model_1.fit(X_tr,y_tr ,\n",
        "                              epochs =3,\n",
        "                              validation_data=(X_val, y_val),\n",
        "                              batch_size=64)"
      ],
      "metadata": {
        "colab": {
          "base_uri": "https://localhost:8080/"
        },
        "id": "Md-twUHrTZiQ",
        "outputId": "c557fdba-b91b-4b1f-abc8-d03ec7f7f5b3"
      },
      "execution_count": null,
      "outputs": [
        {
          "output_type": "stream",
          "name": "stdout",
          "text": [
            "Epoch 1/3\n",
            "262/262 [==============================] - 9s 32ms/step - loss: 0.2352 - accuracy: 0.9156 - val_loss: 0.4010 - val_accuracy: 0.8596\n",
            "Epoch 2/3\n",
            "262/262 [==============================] - 8s 32ms/step - loss: 0.1595 - accuracy: 0.9440 - val_loss: 0.4347 - val_accuracy: 0.8492\n",
            "Epoch 3/3\n",
            "262/262 [==============================] - 12s 44ms/step - loss: 0.1406 - accuracy: 0.9503 - val_loss: 0.4449 - val_accuracy: 0.8343\n",
            "Epoch 1/3\n",
            "262/262 [==============================] - 10s 38ms/step - loss: 0.1154 - accuracy: 0.9599 - val_loss: 0.4516 - val_accuracy: 0.8553\n",
            "Epoch 2/3\n",
            "262/262 [==============================] - 8s 31ms/step - loss: 0.0916 - accuracy: 0.9694 - val_loss: 0.5080 - val_accuracy: 0.8552\n",
            "Epoch 3/3\n",
            "262/262 [==============================] - 8s 31ms/step - loss: 0.0914 - accuracy: 0.9695 - val_loss: 0.5250 - val_accuracy: 0.8510\n"
          ]
        }
      ]
    },
    {
      "cell_type": "code",
      "source": [
        "import pandas as pd\n",
        "pd.DataFrame(model_1_history.history).plot()"
      ],
      "metadata": {
        "colab": {
          "base_uri": "https://localhost:8080/",
          "height": 283
        },
        "id": "QkEY5OeRbKjH",
        "outputId": "f5774a6a-8c43-4b0a-89b1-c9cd2532a367"
      },
      "execution_count": null,
      "outputs": [
        {
          "output_type": "execute_result",
          "data": {
            "text/plain": [
              "<matplotlib.axes._subplots.AxesSubplot at 0x7f74e32d0a50>"
            ]
          },
          "metadata": {},
          "execution_count": 20
        },
        {
          "output_type": "display_data",
          "data": {
            "text/plain": [
              "<Figure size 432x288 with 1 Axes>"
            ],
            "image/png": "[encoded data removed]"
          },
          "metadata": {
            "needs_background": "light"
          }
        }
      ]
    },
    {
      "cell_type": "code",
      "source": [
        "model_1.evaluate(X_test,y_test)"
      ],
      "metadata": {
        "colab": {
          "base_uri": "https://localhost:8080/"
        },
        "id": "CBc6DZJUbb04",
        "outputId": "2fed7794-bef1-4731-9f4b-aeacf2daa874"
      },
      "execution_count": null,
      "outputs": [
        {
          "output_type": "stream",
          "name": "stdout",
          "text": [
            "782/782 [==============================] - 7s 9ms/step - loss: 0.5167 - accuracy: 0.8512\n"
          ]
        },
        {
          "output_type": "execute_result",
          "data": {
            "text/plain": [
              "[0.5166775584220886, 0.8511999845504761]"
            ]
          },
          "metadata": {},
          "execution_count": 21
        }
      ]
    }
  ]
}