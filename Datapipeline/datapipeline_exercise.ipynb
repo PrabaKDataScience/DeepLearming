{
  "nbformat": 4,
  "nbformat_minor": 0,
  "metadata": {
    "colab": {
      "provenance": [],
      "toc_visible": true,
      "authorship_tag": "ABX9TyM2W6+zsZSRhLswJPNG0ELM",
      "include_colab_link": true
    },
    "kernelspec": {
      "name": "python3",
      "display_name": "Python 3"
    },
    "language_info": {
      "name": "python"
    }
  },
  "cells": [
    {
      "cell_type": "markdown",
      "metadata": {
        "id": "view-in-github",
        "colab_type": "text"
      },
      "source": [
        "<a href=\"https://colab.research.google.com/github/PrabaKDataScience/DeepLearning/blob/main/Datapipeline/datapipeline_exercise.ipynb\" target=\"_parent\"><img src=\"https://colab.research.google.com/assets/colab-badge.svg\" alt=\"Open In Colab\"/></a>"
      ]
    },
    {
      "cell_type": "markdown",
      "source": [
        "# Excercise:\n",
        "\n",
        "Movie reviews are present as individual text file (one file per review) in review folder. \n",
        "\n",
        "Folder structure looks like this,\n",
        "```\n",
        "reviews\n",
        "    |__ positive\n",
        "        |__pos_1.txt\n",
        "        |__pos_2.txt\n",
        "        |__pos_3.txt\n",
        "    |__ negative\n",
        "        |__neg_1.txt\n",
        "        |__neg_2.txt\n",
        "        |__neg_3.txt\n",
        "```   \n",
        "You need to read these reviews using tf.data.Dataset and perform following transformations,\n",
        "\n",
        "1. Read text review and generate a label from folder name. your dataset should have review text and label as a tuple\n",
        "1. Filter blank text review. Two files are blank in this dataset\n",
        "1. Do all of the above transformations in single line of code. Also shuffle all the reviews\n",
        "\n",
        "[Solution](https://github.com/codebasics/deep-learning-keras-tf-tutorial/tree/master/44_tf_data_pipeline/Exercise/tf_data_pipeline_exercise_solution.ipynb)"
      ],
      "metadata": {
        "id": "BIslBsEouDqQ"
      }
    },
    {
      "cell_type": "markdown",
      "source": [
        "# Input data from git hub repository"
      ],
      "metadata": {
        "id": "Q8AgB9Qht2L9"
      }
    },
    {
      "cell_type": "code",
      "execution_count": 1,
      "metadata": {
        "colab": {
          "base_uri": "https://localhost:8080/"
        },
        "id": "6XarC1nStsON",
        "outputId": "749bd151-cd89-4df9-9e82-eba9bcbd7267"
      },
      "outputs": [
        {
          "output_type": "stream",
          "name": "stdout",
          "text": [
            "Cloning into 'deep-learning-keras-tf-tutorial'...\n",
            "remote: Enumerating objects: 361, done.\u001b[K\n",
            "remote: Total 361 (delta 0), reused 0 (delta 0), pack-reused 361\u001b[K\n",
            "Receiving objects: 100% (361/361), 72.97 MiB | 22.54 MiB/s, done.\n",
            "Resolving deltas: 100% (85/85), done.\n"
          ]
        }
      ],
      "source": [
        "!git clone https://github.com/codebasics/deep-learning-keras-tf-tutorial.git"
      ]
    },
    {
      "cell_type": "code",
      "source": [
        "# Navigating to the reviews folder\n",
        "\n",
        "input_folder_path = '/content/deep-learning-keras-tf-tutorial/44_tf_data_pipeline/Exercise/reviews'"
      ],
      "metadata": {
        "id": "F0t22ScEuAey"
      },
      "execution_count": 2,
      "outputs": []
    },
    {
      "cell_type": "code",
      "source": [
        "# EXPLORE THE INPUT FOLDER \n",
        "import os\n",
        "for dir, sub_dir, file in os.walk(input_folder_path):\n",
        "  print(dir, sub_dir, file)"
      ],
      "metadata": {
        "colab": {
          "base_uri": "https://localhost:8080/"
        },
        "id": "yt5MlN7rueFg",
        "outputId": "b6fd576b-7a28-4bba-839e-b4f32f99fc83"
      },
      "execution_count": 3,
      "outputs": [
        {
          "output_type": "stream",
          "name": "stdout",
          "text": [
            "/content/deep-learning-keras-tf-tutorial/44_tf_data_pipeline/Exercise/reviews ['negative', 'positive'] []\n",
            "/content/deep-learning-keras-tf-tutorial/44_tf_data_pipeline/Exercise/reviews/negative [] ['neg_2.txt', 'neg_1.txt', 'neg_3.txt']\n",
            "/content/deep-learning-keras-tf-tutorial/44_tf_data_pipeline/Exercise/reviews/positive [] ['pos_1.txt', 'pos_2.txt', 'pos_3.txt']\n"
          ]
        }
      ]
    },
    {
      "cell_type": "code",
      "source": [
        "import tensorflow as tf \n",
        "data_slice = tf.data.Dataset.list_files(input_folder_path+'/*/*',shuffle=False)\n",
        "data_slice\n",
        "\n"
      ],
      "metadata": {
        "colab": {
          "base_uri": "https://localhost:8080/"
        },
        "id": "0srJkrEju-7V",
        "outputId": "47cf34b9-7db2-47e5-817e-9334cef44f70"
      },
      "execution_count": 61,
      "outputs": [
        {
          "output_type": "execute_result",
          "data": {
            "text/plain": [
              "<TensorSliceDataset element_spec=TensorSpec(shape=(), dtype=tf.string, name=None)>"
            ]
          },
          "metadata": {},
          "execution_count": 61
        }
      ]
    },
    {
      "cell_type": "code",
      "source": [
        "for each in data_slice:\n",
        "  print(each.numpy())"
      ],
      "metadata": {
        "colab": {
          "base_uri": "https://localhost:8080/"
        },
        "id": "A_gNshWNwVeV",
        "outputId": "8319dd3b-a760-4d2c-f404-3cf3339b20df"
      },
      "execution_count": 38,
      "outputs": [
        {
          "output_type": "stream",
          "name": "stdout",
          "text": [
            "b'/content/deep-learning-keras-tf-tutorial/44_tf_data_pipeline/Exercise/reviews/negative/neg_1.txt'\n",
            "b'/content/deep-learning-keras-tf-tutorial/44_tf_data_pipeline/Exercise/reviews/negative/neg_2.txt'\n",
            "b'/content/deep-learning-keras-tf-tutorial/44_tf_data_pipeline/Exercise/reviews/negative/neg_3.txt'\n",
            "b'/content/deep-learning-keras-tf-tutorial/44_tf_data_pipeline/Exercise/reviews/positive/pos_1.txt'\n",
            "b'/content/deep-learning-keras-tf-tutorial/44_tf_data_pipeline/Exercise/reviews/positive/pos_2.txt'\n",
            "b'/content/deep-learning-keras-tf-tutorial/44_tf_data_pipeline/Exercise/reviews/positive/pos_3.txt'\n"
          ]
        }
      ]
    },
    {
      "cell_type": "code",
      "source": [
        "data_slice_shuffled = tf.data.Dataset.list_files(input_folder_path+'/*/*',shuffle=True)\n",
        "for each in data_slice_shuffled:\n",
        "  print(each.numpy())"
      ],
      "metadata": {
        "colab": {
          "base_uri": "https://localhost:8080/"
        },
        "id": "-13L1CRWwhlr",
        "outputId": "a7e88173-37d4-44af-d3cd-4e812d1fe814"
      },
      "execution_count": 36,
      "outputs": [
        {
          "output_type": "stream",
          "name": "stdout",
          "text": [
            "b'/content/deep-learning-keras-tf-tutorial/44_tf_data_pipeline/Exercise/reviews/positive/pos_1.txt'\n",
            "b'/content/deep-learning-keras-tf-tutorial/44_tf_data_pipeline/Exercise/reviews/positive/pos_2.txt'\n",
            "b'/content/deep-learning-keras-tf-tutorial/44_tf_data_pipeline/Exercise/reviews/negative/neg_3.txt'\n",
            "b'/content/deep-learning-keras-tf-tutorial/44_tf_data_pipeline/Exercise/reviews/negative/neg_1.txt'\n",
            "b'/content/deep-learning-keras-tf-tutorial/44_tf_data_pipeline/Exercise/reviews/positive/pos_3.txt'\n",
            "b'/content/deep-learning-keras-tf-tutorial/44_tf_data_pipeline/Exercise/reviews/negative/neg_2.txt'\n"
          ]
        }
      ]
    },
    {
      "cell_type": "code",
      "source": [
        "### Normal Python way to read the file when the filepath is string\n",
        "# This doesnt work in our case since it is tensorflow string \n",
        "\n",
        "def filter_by_reading(filepath):\n",
        "  with open(tf.strings.as_string(filepath), encoding = 'utf-8') as f:\n",
        "    lines = f.readlines()\n",
        "    if lines:\n",
        "      return 1\n",
        "filter_by_reading('/content/deep-learning-keras-tf-tutorial/44_tf_data_pipeline/Exercise/reviews/positive/pos_2.txt')\n"
      ],
      "metadata": {
        "id": "sZhL8A5Tw5wH"
      },
      "execution_count": 22,
      "outputs": []
    },
    {
      "cell_type": "code",
      "source": [
        "def extract_label_read_file(filepath):\n",
        "  label  = tf.strings.split(filepath,os.path.sep)[-2]\n",
        "  file_content = tf.io.read_file(filepath)\n",
        "  return file_content, label"
      ],
      "metadata": {
        "id": "9d8jzgiZzRVN"
      },
      "execution_count": 48,
      "outputs": []
    },
    {
      "cell_type": "code",
      "source": [
        "data_slice_1 = data_slice.map(extract_label_read_file)\n",
        "for content , label in data_slice_1:\n",
        "  print(label.numpy(),content.numpy())\n",
        "  print(len(content.numpy()))"
      ],
      "metadata": {
        "colab": {
          "base_uri": "https://localhost:8080/"
        },
        "id": "r6D_ndd32mvm",
        "outputId": "8c75c9df-7416-420d-83da-290b79bcabdf"
      },
      "execution_count": 74,
      "outputs": [
        {
          "output_type": "stream",
          "name": "stdout",
          "text": [
            "b'negative' b\"Basically there's a family where a little boy (Jake) thinks there's a zombie in his closet & his parents are fighting all the time.<br /><br />This movie is slower than a soap opera... and suddenly, Jake decides to become Rambo and kill the zombie.<br /><br />OK, first of all when you're going to make a film you must Decide if its a thriller or a drama! As a drama the movie is watchable. Parents are divorcing & arguing like in real life. And then we have Jake with his closet which totally ruins all the film! I expected to see a BOOGEYMAN similar movie, and instead i watched a drama with some meaningless thriller spots.<br /><br />3 out of 10 just for the well playing parents & descent dialogs. As for the shots with Jake: just ignore them.\\n\"\n",
            "749\n",
            "b'negative' b\"This show was an amazing, fresh & innovative idea in the 70's when it first aired. The first 7 or 8 years were brilliant, but things dropped off after that. By 1990, the show was not really funny anymore, and it's continued its decline further to the complete waste of time it is today.<br /><br />It's truly disgraceful how far this show has fallen. The writing is painfully bad, the performances are almost as bad - if not for the mildly entertaining respite of the guest-hosts, this show probably wouldn't still be on the air. I find it so hard to believe that the same creator that hand-selected the original cast also chose the band of hacks that followed. How can one recognize such brilliance and then see fit to replace it with such mediocrity? I felt I must give 2 stars out of respect for the original cast that made this show such a huge success. As it is now, the show is just awful. I can't believe it's still on the air.\\n\"\n",
            "935\n",
            "b'negative' b''\n",
            "0\n",
            "b'positive' b\"One of the other reviewers has mentioned that after watching just 1 Oz episode you'll be hooked. They are right, as this is exactly what happened with me.<br /><br />The first thing that struck me about Oz was its brutality and unflinching scenes of violence, which set in right from the word GO. Trust me, this is not a show for the faint hearted or timid. This show pulls no punches with regards to drugs, sex or violence. Its is hardcore, in the classic use of the word.<br /><br />It is called OZ as that is the nickname given to the Oswald Maximum Security State Penitentary. It focuses mainly on Emerald City, an experimental section of the prison where all the cells have glass fronts and face inwards, so privacy is not high on the agenda. Em City is home to many..Aryans, Muslims, gangstas, Latinos, Christians, Italians, Irish and more....so scuffles, death stares, dodgy dealings and shady agreements are never far away.<br /><br />I would say the main appeal of the show is due to the fact that it goes where other shows wouldn't dare. Forget pretty pictures painted for mainstream audiences, forget charm, forget romance...OZ doesn't mess around. The first episode I ever saw struck me as so nasty it was surreal, I couldn't say I was ready for it, but as I watched more, I developed a taste for Oz, and got accustomed to the high levels of graphic violence. Not just violence, but injustice (crooked guards who'll be sold out for a nickel, inmates who'll kill on order and get away with it, well mannered, middle class inmates being turned into prison bitches due to their lack of street skills or prison experience) Watching Oz, you may become comfortable with what is uncomfortable viewing....thats if you can get in touch with your darker side.\\n\"\n",
            "1762\n",
            "b'positive' b'A wonderful little production. <br /><br />The filming technique is very unassuming- very old-time-BBC fashion and gives a comforting, and sometimes discomforting, sense of realism to the entire piece. <br /><br />The actors are extremely well chosen- Michael Sheen not only \"has got all the polari\" but he has all the voices down pat too! You can truly see the seamless editing guided by the references to Williams\\' diary entries, not only is it well worth the watching but it is a terrificly written and performed piece. A masterful production about one of the great master\\'s of comedy and his life. <br /><br />The realism really comes home with the little things: the fantasy of the guard which, rather than use the traditional \\'dream\\' techniques remains solid then disappears. It plays on our knowledge and our senses, particularly with the scenes concerning Orton and Halliwell and the sets (particularly of their flat with Halliwell\\'s murals decorating every surface) are terribly well done.\\n'\n",
            "999\n",
            "b'positive' b''\n",
            "0\n"
          ]
        }
      ]
    },
    {
      "cell_type": "code",
      "source": [
        "# def filter_func(content,label):\n",
        "#   if len(content.numpy)>1:\n",
        "#     return content,label\n",
        "#   else:\n",
        "#     return content,label\n",
        "  \n",
        "\n",
        "data_slice_2 = data_slice_1.filter(lambda content, label : content!=\"\")\n",
        "for content , label in data_slice_2:\n",
        "  print(label.numpy(),content.numpy())"
      ],
      "metadata": {
        "colab": {
          "base_uri": "https://localhost:8080/"
        },
        "id": "R8tT9PHI5Fk7",
        "outputId": "e552015b-7971-42c2-a3e8-447f9bf04c18"
      },
      "execution_count": 78,
      "outputs": [
        {
          "output_type": "stream",
          "name": "stdout",
          "text": [
            "b'negative' b\"Basically there's a family where a little boy (Jake) thinks there's a zombie in his closet & his parents are fighting all the time.<br /><br />This movie is slower than a soap opera... and suddenly, Jake decides to become Rambo and kill the zombie.<br /><br />OK, first of all when you're going to make a film you must Decide if its a thriller or a drama! As a drama the movie is watchable. Parents are divorcing & arguing like in real life. And then we have Jake with his closet which totally ruins all the film! I expected to see a BOOGEYMAN similar movie, and instead i watched a drama with some meaningless thriller spots.<br /><br />3 out of 10 just for the well playing parents & descent dialogs. As for the shots with Jake: just ignore them.\\n\"\n",
            "b'negative' b\"This show was an amazing, fresh & innovative idea in the 70's when it first aired. The first 7 or 8 years were brilliant, but things dropped off after that. By 1990, the show was not really funny anymore, and it's continued its decline further to the complete waste of time it is today.<br /><br />It's truly disgraceful how far this show has fallen. The writing is painfully bad, the performances are almost as bad - if not for the mildly entertaining respite of the guest-hosts, this show probably wouldn't still be on the air. I find it so hard to believe that the same creator that hand-selected the original cast also chose the band of hacks that followed. How can one recognize such brilliance and then see fit to replace it with such mediocrity? I felt I must give 2 stars out of respect for the original cast that made this show such a huge success. As it is now, the show is just awful. I can't believe it's still on the air.\\n\"\n",
            "b'positive' b\"One of the other reviewers has mentioned that after watching just 1 Oz episode you'll be hooked. They are right, as this is exactly what happened with me.<br /><br />The first thing that struck me about Oz was its brutality and unflinching scenes of violence, which set in right from the word GO. Trust me, this is not a show for the faint hearted or timid. This show pulls no punches with regards to drugs, sex or violence. Its is hardcore, in the classic use of the word.<br /><br />It is called OZ as that is the nickname given to the Oswald Maximum Security State Penitentary. It focuses mainly on Emerald City, an experimental section of the prison where all the cells have glass fronts and face inwards, so privacy is not high on the agenda. Em City is home to many..Aryans, Muslims, gangstas, Latinos, Christians, Italians, Irish and more....so scuffles, death stares, dodgy dealings and shady agreements are never far away.<br /><br />I would say the main appeal of the show is due to the fact that it goes where other shows wouldn't dare. Forget pretty pictures painted for mainstream audiences, forget charm, forget romance...OZ doesn't mess around. The first episode I ever saw struck me as so nasty it was surreal, I couldn't say I was ready for it, but as I watched more, I developed a taste for Oz, and got accustomed to the high levels of graphic violence. Not just violence, but injustice (crooked guards who'll be sold out for a nickel, inmates who'll kill on order and get away with it, well mannered, middle class inmates being turned into prison bitches due to their lack of street skills or prison experience) Watching Oz, you may become comfortable with what is uncomfortable viewing....thats if you can get in touch with your darker side.\\n\"\n",
            "b'positive' b'A wonderful little production. <br /><br />The filming technique is very unassuming- very old-time-BBC fashion and gives a comforting, and sometimes discomforting, sense of realism to the entire piece. <br /><br />The actors are extremely well chosen- Michael Sheen not only \"has got all the polari\" but he has all the voices down pat too! You can truly see the seamless editing guided by the references to Williams\\' diary entries, not only is it well worth the watching but it is a terrificly written and performed piece. A masterful production about one of the great master\\'s of comedy and his life. <br /><br />The realism really comes home with the little things: the fantasy of the guard which, rather than use the traditional \\'dream\\' techniques remains solid then disappears. It plays on our knowledge and our senses, particularly with the scenes concerning Orton and Halliwell and the sets (particularly of their flat with Halliwell\\'s murals decorating every surface) are terribly well done.\\n'\n"
          ]
        }
      ]
    },
    {
      "cell_type": "markdown",
      "source": [
        "# Solution"
      ],
      "metadata": {
        "id": "uCyHMRQl8Uqn"
      }
    },
    {
      "cell_type": "code",
      "source": [
        "review_ds = tf.data.Dataset.list_files(input_folder_path+'/*/*')\n",
        "\n",
        "review_ds = review_ds.map(extract_label_read_file).filter(lambda content, label : content!=\"\").shuffle(3)"
      ],
      "metadata": {
        "id": "KtqcR_Wd8aEq"
      },
      "execution_count": 82,
      "outputs": []
    },
    {
      "cell_type": "code",
      "source": [
        "for content , label in review_ds:\n",
        "  print(label.numpy(),content.numpy())"
      ],
      "metadata": {
        "colab": {
          "base_uri": "https://localhost:8080/"
        },
        "id": "lfkEWl8G9JkW",
        "outputId": "528ad928-4f5a-4b5b-d832-fe69e2ca3c56"
      },
      "execution_count": 83,
      "outputs": [
        {
          "output_type": "stream",
          "name": "stdout",
          "text": [
            "b'positive' b\"One of the other reviewers has mentioned that after watching just 1 Oz episode you'll be hooked. They are right, as this is exactly what happened with me.<br /><br />The first thing that struck me about Oz was its brutality and unflinching scenes of violence, which set in right from the word GO. Trust me, this is not a show for the faint hearted or timid. This show pulls no punches with regards to drugs, sex or violence. Its is hardcore, in the classic use of the word.<br /><br />It is called OZ as that is the nickname given to the Oswald Maximum Security State Penitentary. It focuses mainly on Emerald City, an experimental section of the prison where all the cells have glass fronts and face inwards, so privacy is not high on the agenda. Em City is home to many..Aryans, Muslims, gangstas, Latinos, Christians, Italians, Irish and more....so scuffles, death stares, dodgy dealings and shady agreements are never far away.<br /><br />I would say the main appeal of the show is due to the fact that it goes where other shows wouldn't dare. Forget pretty pictures painted for mainstream audiences, forget charm, forget romance...OZ doesn't mess around. The first episode I ever saw struck me as so nasty it was surreal, I couldn't say I was ready for it, but as I watched more, I developed a taste for Oz, and got accustomed to the high levels of graphic violence. Not just violence, but injustice (crooked guards who'll be sold out for a nickel, inmates who'll kill on order and get away with it, well mannered, middle class inmates being turned into prison bitches due to their lack of street skills or prison experience) Watching Oz, you may become comfortable with what is uncomfortable viewing....thats if you can get in touch with your darker side.\\n\"\n",
            "b'negative' b\"This show was an amazing, fresh & innovative idea in the 70's when it first aired. The first 7 or 8 years were brilliant, but things dropped off after that. By 1990, the show was not really funny anymore, and it's continued its decline further to the complete waste of time it is today.<br /><br />It's truly disgraceful how far this show has fallen. The writing is painfully bad, the performances are almost as bad - if not for the mildly entertaining respite of the guest-hosts, this show probably wouldn't still be on the air. I find it so hard to believe that the same creator that hand-selected the original cast also chose the band of hacks that followed. How can one recognize such brilliance and then see fit to replace it with such mediocrity? I felt I must give 2 stars out of respect for the original cast that made this show such a huge success. As it is now, the show is just awful. I can't believe it's still on the air.\\n\"\n",
            "b'positive' b'A wonderful little production. <br /><br />The filming technique is very unassuming- very old-time-BBC fashion and gives a comforting, and sometimes discomforting, sense of realism to the entire piece. <br /><br />The actors are extremely well chosen- Michael Sheen not only \"has got all the polari\" but he has all the voices down pat too! You can truly see the seamless editing guided by the references to Williams\\' diary entries, not only is it well worth the watching but it is a terrificly written and performed piece. A masterful production about one of the great master\\'s of comedy and his life. <br /><br />The realism really comes home with the little things: the fantasy of the guard which, rather than use the traditional \\'dream\\' techniques remains solid then disappears. It plays on our knowledge and our senses, particularly with the scenes concerning Orton and Halliwell and the sets (particularly of their flat with Halliwell\\'s murals decorating every surface) are terribly well done.\\n'\n",
            "b'negative' b\"Basically there's a family where a little boy (Jake) thinks there's a zombie in his closet & his parents are fighting all the time.<br /><br />This movie is slower than a soap opera... and suddenly, Jake decides to become Rambo and kill the zombie.<br /><br />OK, first of all when you're going to make a film you must Decide if its a thriller or a drama! As a drama the movie is watchable. Parents are divorcing & arguing like in real life. And then we have Jake with his closet which totally ruins all the film! I expected to see a BOOGEYMAN similar movie, and instead i watched a drama with some meaningless thriller spots.<br /><br />3 out of 10 just for the well playing parents & descent dialogs. As for the shots with Jake: just ignore them.\\n\"\n"
          ]
        }
      ]
    },
    {
      "cell_type": "code",
      "source": [
        "#Alternate way \n",
        "for content , label in review_ds.as_numpy_iterator():\n",
        "  print(label,content)"
      ],
      "metadata": {
        "colab": {
          "base_uri": "https://localhost:8080/"
        },
        "id": "b9RbZb9E9QAk",
        "outputId": "3dca4eff-7093-4296-fe60-019744c90b6c"
      },
      "execution_count": 84,
      "outputs": [
        {
          "output_type": "stream",
          "name": "stdout",
          "text": [
            "b'negative' b\"Basically there's a family where a little boy (Jake) thinks there's a zombie in his closet & his parents are fighting all the time.<br /><br />This movie is slower than a soap opera... and suddenly, Jake decides to become Rambo and kill the zombie.<br /><br />OK, first of all when you're going to make a film you must Decide if its a thriller or a drama! As a drama the movie is watchable. Parents are divorcing & arguing like in real life. And then we have Jake with his closet which totally ruins all the film! I expected to see a BOOGEYMAN similar movie, and instead i watched a drama with some meaningless thriller spots.<br /><br />3 out of 10 just for the well playing parents & descent dialogs. As for the shots with Jake: just ignore them.\\n\"\n",
            "b'positive' b\"One of the other reviewers has mentioned that after watching just 1 Oz episode you'll be hooked. They are right, as this is exactly what happened with me.<br /><br />The first thing that struck me about Oz was its brutality and unflinching scenes of violence, which set in right from the word GO. Trust me, this is not a show for the faint hearted or timid. This show pulls no punches with regards to drugs, sex or violence. Its is hardcore, in the classic use of the word.<br /><br />It is called OZ as that is the nickname given to the Oswald Maximum Security State Penitentary. It focuses mainly on Emerald City, an experimental section of the prison where all the cells have glass fronts and face inwards, so privacy is not high on the agenda. Em City is home to many..Aryans, Muslims, gangstas, Latinos, Christians, Italians, Irish and more....so scuffles, death stares, dodgy dealings and shady agreements are never far away.<br /><br />I would say the main appeal of the show is due to the fact that it goes where other shows wouldn't dare. Forget pretty pictures painted for mainstream audiences, forget charm, forget romance...OZ doesn't mess around. The first episode I ever saw struck me as so nasty it was surreal, I couldn't say I was ready for it, but as I watched more, I developed a taste for Oz, and got accustomed to the high levels of graphic violence. Not just violence, but injustice (crooked guards who'll be sold out for a nickel, inmates who'll kill on order and get away with it, well mannered, middle class inmates being turned into prison bitches due to their lack of street skills or prison experience) Watching Oz, you may become comfortable with what is uncomfortable viewing....thats if you can get in touch with your darker side.\\n\"\n",
            "b'negative' b\"This show was an amazing, fresh & innovative idea in the 70's when it first aired. The first 7 or 8 years were brilliant, but things dropped off after that. By 1990, the show was not really funny anymore, and it's continued its decline further to the complete waste of time it is today.<br /><br />It's truly disgraceful how far this show has fallen. The writing is painfully bad, the performances are almost as bad - if not for the mildly entertaining respite of the guest-hosts, this show probably wouldn't still be on the air. I find it so hard to believe that the same creator that hand-selected the original cast also chose the band of hacks that followed. How can one recognize such brilliance and then see fit to replace it with such mediocrity? I felt I must give 2 stars out of respect for the original cast that made this show such a huge success. As it is now, the show is just awful. I can't believe it's still on the air.\\n\"\n",
            "b'positive' b'A wonderful little production. <br /><br />The filming technique is very unassuming- very old-time-BBC fashion and gives a comforting, and sometimes discomforting, sense of realism to the entire piece. <br /><br />The actors are extremely well chosen- Michael Sheen not only \"has got all the polari\" but he has all the voices down pat too! You can truly see the seamless editing guided by the references to Williams\\' diary entries, not only is it well worth the watching but it is a terrificly written and performed piece. A masterful production about one of the great master\\'s of comedy and his life. <br /><br />The realism really comes home with the little things: the fantasy of the guard which, rather than use the traditional \\'dream\\' techniques remains solid then disappears. It plays on our knowledge and our senses, particularly with the scenes concerning Orton and Halliwell and the sets (particularly of their flat with Halliwell\\'s murals decorating every surface) are terribly well done.\\n'\n"
          ]
        }
      ]
    }
  ]
}